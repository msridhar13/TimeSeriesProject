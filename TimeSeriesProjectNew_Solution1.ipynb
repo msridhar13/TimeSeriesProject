{
 "cells": [
  {
   "cell_type": "code",
   "execution_count": 88,
   "metadata": {},
   "outputs": [],
   "source": [
    "import numpy as np\n",
    "import pandas as pd\n",
    "import seaborn as sns\n",
    "import matplotlib.pyplot as plt\n",
    "%matplotlib inline"
   ]
  },
  {
   "cell_type": "code",
   "execution_count": 89,
   "metadata": {},
   "outputs": [],
   "source": [
    "dataset=pd.read_csv(\"D:\\Study\\DataScience\\DataSets\\data_stocks.csv\")"
   ]
  },
  {
   "cell_type": "code",
   "execution_count": 90,
   "metadata": {},
   "outputs": [
    {
     "data": {
      "text/html": [
       "<div>\n",
       "<style scoped>\n",
       "    .dataframe tbody tr th:only-of-type {\n",
       "        vertical-align: middle;\n",
       "    }\n",
       "\n",
       "    .dataframe tbody tr th {\n",
       "        vertical-align: top;\n",
       "    }\n",
       "\n",
       "    .dataframe thead th {\n",
       "        text-align: right;\n",
       "    }\n",
       "</style>\n",
       "<table border=\"1\" class=\"dataframe\">\n",
       "  <thead>\n",
       "    <tr style=\"text-align: right;\">\n",
       "      <th></th>\n",
       "      <th>DATE</th>\n",
       "      <th>SP500</th>\n",
       "      <th>NASDAQ.AAL</th>\n",
       "      <th>NASDAQ.AAPL</th>\n",
       "      <th>NASDAQ.ADBE</th>\n",
       "      <th>NASDAQ.ADI</th>\n",
       "      <th>NASDAQ.ADP</th>\n",
       "      <th>NASDAQ.ADSK</th>\n",
       "      <th>NASDAQ.AKAM</th>\n",
       "      <th>NASDAQ.ALXN</th>\n",
       "      <th>...</th>\n",
       "      <th>NYSE.WYN</th>\n",
       "      <th>NYSE.XEC</th>\n",
       "      <th>NYSE.XEL</th>\n",
       "      <th>NYSE.XL</th>\n",
       "      <th>NYSE.XOM</th>\n",
       "      <th>NYSE.XRX</th>\n",
       "      <th>NYSE.XYL</th>\n",
       "      <th>NYSE.YUM</th>\n",
       "      <th>NYSE.ZBH</th>\n",
       "      <th>NYSE.ZTS</th>\n",
       "    </tr>\n",
       "  </thead>\n",
       "  <tbody>\n",
       "    <tr>\n",
       "      <th>0</th>\n",
       "      <td>1491226200</td>\n",
       "      <td>2363.6101</td>\n",
       "      <td>42.3300</td>\n",
       "      <td>143.6800</td>\n",
       "      <td>129.6300</td>\n",
       "      <td>82.040</td>\n",
       "      <td>102.2300</td>\n",
       "      <td>85.2200</td>\n",
       "      <td>59.760</td>\n",
       "      <td>121.52</td>\n",
       "      <td>...</td>\n",
       "      <td>84.370</td>\n",
       "      <td>119.035</td>\n",
       "      <td>44.40</td>\n",
       "      <td>39.88</td>\n",
       "      <td>82.03</td>\n",
       "      <td>7.36</td>\n",
       "      <td>50.22</td>\n",
       "      <td>63.86</td>\n",
       "      <td>122.000</td>\n",
       "      <td>53.350</td>\n",
       "    </tr>\n",
       "    <tr>\n",
       "      <th>1</th>\n",
       "      <td>1491226260</td>\n",
       "      <td>2364.1001</td>\n",
       "      <td>42.3600</td>\n",
       "      <td>143.7000</td>\n",
       "      <td>130.3200</td>\n",
       "      <td>82.080</td>\n",
       "      <td>102.1400</td>\n",
       "      <td>85.6500</td>\n",
       "      <td>59.840</td>\n",
       "      <td>121.48</td>\n",
       "      <td>...</td>\n",
       "      <td>84.370</td>\n",
       "      <td>119.035</td>\n",
       "      <td>44.11</td>\n",
       "      <td>39.88</td>\n",
       "      <td>82.03</td>\n",
       "      <td>7.38</td>\n",
       "      <td>50.22</td>\n",
       "      <td>63.74</td>\n",
       "      <td>121.770</td>\n",
       "      <td>53.350</td>\n",
       "    </tr>\n",
       "    <tr>\n",
       "      <th>2</th>\n",
       "      <td>1491226320</td>\n",
       "      <td>2362.6799</td>\n",
       "      <td>42.3100</td>\n",
       "      <td>143.6901</td>\n",
       "      <td>130.2250</td>\n",
       "      <td>82.030</td>\n",
       "      <td>102.2125</td>\n",
       "      <td>85.5100</td>\n",
       "      <td>59.795</td>\n",
       "      <td>121.93</td>\n",
       "      <td>...</td>\n",
       "      <td>84.585</td>\n",
       "      <td>119.260</td>\n",
       "      <td>44.09</td>\n",
       "      <td>39.98</td>\n",
       "      <td>82.02</td>\n",
       "      <td>7.36</td>\n",
       "      <td>50.12</td>\n",
       "      <td>63.75</td>\n",
       "      <td>121.700</td>\n",
       "      <td>53.365</td>\n",
       "    </tr>\n",
       "    <tr>\n",
       "      <th>3</th>\n",
       "      <td>1491226380</td>\n",
       "      <td>2364.3101</td>\n",
       "      <td>42.3700</td>\n",
       "      <td>143.6400</td>\n",
       "      <td>130.0729</td>\n",
       "      <td>82.000</td>\n",
       "      <td>102.1400</td>\n",
       "      <td>85.4872</td>\n",
       "      <td>59.620</td>\n",
       "      <td>121.44</td>\n",
       "      <td>...</td>\n",
       "      <td>84.460</td>\n",
       "      <td>119.260</td>\n",
       "      <td>44.25</td>\n",
       "      <td>39.99</td>\n",
       "      <td>82.02</td>\n",
       "      <td>7.35</td>\n",
       "      <td>50.16</td>\n",
       "      <td>63.88</td>\n",
       "      <td>121.700</td>\n",
       "      <td>53.380</td>\n",
       "    </tr>\n",
       "    <tr>\n",
       "      <th>4</th>\n",
       "      <td>1491226440</td>\n",
       "      <td>2364.8501</td>\n",
       "      <td>42.5378</td>\n",
       "      <td>143.6600</td>\n",
       "      <td>129.8800</td>\n",
       "      <td>82.035</td>\n",
       "      <td>102.0600</td>\n",
       "      <td>85.7001</td>\n",
       "      <td>59.620</td>\n",
       "      <td>121.60</td>\n",
       "      <td>...</td>\n",
       "      <td>84.470</td>\n",
       "      <td>119.610</td>\n",
       "      <td>44.11</td>\n",
       "      <td>39.96</td>\n",
       "      <td>82.03</td>\n",
       "      <td>7.36</td>\n",
       "      <td>50.20</td>\n",
       "      <td>63.91</td>\n",
       "      <td>121.695</td>\n",
       "      <td>53.240</td>\n",
       "    </tr>\n",
       "  </tbody>\n",
       "</table>\n",
       "<p>5 rows × 502 columns</p>\n",
       "</div>"
      ],
      "text/plain": [
       "         DATE      SP500  NASDAQ.AAL  NASDAQ.AAPL  NASDAQ.ADBE  NASDAQ.ADI  \\\n",
       "0  1491226200  2363.6101     42.3300     143.6800     129.6300      82.040   \n",
       "1  1491226260  2364.1001     42.3600     143.7000     130.3200      82.080   \n",
       "2  1491226320  2362.6799     42.3100     143.6901     130.2250      82.030   \n",
       "3  1491226380  2364.3101     42.3700     143.6400     130.0729      82.000   \n",
       "4  1491226440  2364.8501     42.5378     143.6600     129.8800      82.035   \n",
       "\n",
       "   NASDAQ.ADP  NASDAQ.ADSK  NASDAQ.AKAM  NASDAQ.ALXN    ...     NYSE.WYN  \\\n",
       "0    102.2300      85.2200       59.760       121.52    ...       84.370   \n",
       "1    102.1400      85.6500       59.840       121.48    ...       84.370   \n",
       "2    102.2125      85.5100       59.795       121.93    ...       84.585   \n",
       "3    102.1400      85.4872       59.620       121.44    ...       84.460   \n",
       "4    102.0600      85.7001       59.620       121.60    ...       84.470   \n",
       "\n",
       "   NYSE.XEC  NYSE.XEL  NYSE.XL  NYSE.XOM  NYSE.XRX  NYSE.XYL  NYSE.YUM  \\\n",
       "0   119.035     44.40    39.88     82.03      7.36     50.22     63.86   \n",
       "1   119.035     44.11    39.88     82.03      7.38     50.22     63.74   \n",
       "2   119.260     44.09    39.98     82.02      7.36     50.12     63.75   \n",
       "3   119.260     44.25    39.99     82.02      7.35     50.16     63.88   \n",
       "4   119.610     44.11    39.96     82.03      7.36     50.20     63.91   \n",
       "\n",
       "   NYSE.ZBH  NYSE.ZTS  \n",
       "0   122.000    53.350  \n",
       "1   121.770    53.350  \n",
       "2   121.700    53.365  \n",
       "3   121.700    53.380  \n",
       "4   121.695    53.240  \n",
       "\n",
       "[5 rows x 502 columns]"
      ]
     },
     "execution_count": 90,
     "metadata": {},
     "output_type": "execute_result"
    }
   ],
   "source": [
    "dataset.head()"
   ]
  },
  {
   "cell_type": "code",
   "execution_count": 91,
   "metadata": {},
   "outputs": [
    {
     "data": {
      "text/html": [
       "<div>\n",
       "<style scoped>\n",
       "    .dataframe tbody tr th:only-of-type {\n",
       "        vertical-align: middle;\n",
       "    }\n",
       "\n",
       "    .dataframe tbody tr th {\n",
       "        vertical-align: top;\n",
       "    }\n",
       "\n",
       "    .dataframe thead th {\n",
       "        text-align: right;\n",
       "    }\n",
       "</style>\n",
       "<table border=\"1\" class=\"dataframe\">\n",
       "  <thead>\n",
       "    <tr style=\"text-align: right;\">\n",
       "      <th></th>\n",
       "      <th>DATE</th>\n",
       "      <th>SP500</th>\n",
       "      <th>NASDAQ.AAL</th>\n",
       "      <th>NASDAQ.AAPL</th>\n",
       "      <th>NASDAQ.ADBE</th>\n",
       "      <th>NASDAQ.ADI</th>\n",
       "      <th>NASDAQ.ADP</th>\n",
       "      <th>NASDAQ.ADSK</th>\n",
       "      <th>NASDAQ.AKAM</th>\n",
       "      <th>NASDAQ.ALXN</th>\n",
       "      <th>...</th>\n",
       "      <th>NYSE.WYN</th>\n",
       "      <th>NYSE.XEC</th>\n",
       "      <th>NYSE.XEL</th>\n",
       "      <th>NYSE.XL</th>\n",
       "      <th>NYSE.XOM</th>\n",
       "      <th>NYSE.XRX</th>\n",
       "      <th>NYSE.XYL</th>\n",
       "      <th>NYSE.YUM</th>\n",
       "      <th>NYSE.ZBH</th>\n",
       "      <th>NYSE.ZTS</th>\n",
       "    </tr>\n",
       "  </thead>\n",
       "  <tbody>\n",
       "    <tr>\n",
       "      <th>41261</th>\n",
       "      <td>1504209360</td>\n",
       "      <td>2472.22</td>\n",
       "      <td>44.72</td>\n",
       "      <td>164.11</td>\n",
       "      <td>155.090</td>\n",
       "      <td>83.67</td>\n",
       "      <td>106.565</td>\n",
       "      <td>114.49</td>\n",
       "      <td>47.150</td>\n",
       "      <td>142.425</td>\n",
       "      <td>...</td>\n",
       "      <td>99.675</td>\n",
       "      <td>99.53</td>\n",
       "      <td>49.485</td>\n",
       "      <td>40.955</td>\n",
       "      <td>76.360</td>\n",
       "      <td>32.285</td>\n",
       "      <td>62.110</td>\n",
       "      <td>76.88</td>\n",
       "      <td>114.31</td>\n",
       "      <td>62.7250</td>\n",
       "    </tr>\n",
       "    <tr>\n",
       "      <th>41262</th>\n",
       "      <td>1504209420</td>\n",
       "      <td>2471.77</td>\n",
       "      <td>44.73</td>\n",
       "      <td>164.12</td>\n",
       "      <td>155.160</td>\n",
       "      <td>83.65</td>\n",
       "      <td>106.590</td>\n",
       "      <td>114.52</td>\n",
       "      <td>47.150</td>\n",
       "      <td>142.450</td>\n",
       "      <td>...</td>\n",
       "      <td>99.730</td>\n",
       "      <td>99.63</td>\n",
       "      <td>49.480</td>\n",
       "      <td>40.960</td>\n",
       "      <td>76.370</td>\n",
       "      <td>32.295</td>\n",
       "      <td>62.100</td>\n",
       "      <td>76.90</td>\n",
       "      <td>114.33</td>\n",
       "      <td>62.7100</td>\n",
       "    </tr>\n",
       "    <tr>\n",
       "      <th>41263</th>\n",
       "      <td>1504209480</td>\n",
       "      <td>2470.03</td>\n",
       "      <td>44.74</td>\n",
       "      <td>164.01</td>\n",
       "      <td>155.065</td>\n",
       "      <td>83.62</td>\n",
       "      <td>106.520</td>\n",
       "      <td>114.47</td>\n",
       "      <td>47.150</td>\n",
       "      <td>142.330</td>\n",
       "      <td>...</td>\n",
       "      <td>99.735</td>\n",
       "      <td>99.64</td>\n",
       "      <td>49.495</td>\n",
       "      <td>40.940</td>\n",
       "      <td>76.315</td>\n",
       "      <td>32.290</td>\n",
       "      <td>62.090</td>\n",
       "      <td>76.88</td>\n",
       "      <td>114.31</td>\n",
       "      <td>62.6850</td>\n",
       "    </tr>\n",
       "    <tr>\n",
       "      <th>41264</th>\n",
       "      <td>1504209540</td>\n",
       "      <td>2471.49</td>\n",
       "      <td>44.71</td>\n",
       "      <td>163.88</td>\n",
       "      <td>154.960</td>\n",
       "      <td>83.58</td>\n",
       "      <td>106.400</td>\n",
       "      <td>114.33</td>\n",
       "      <td>47.135</td>\n",
       "      <td>142.170</td>\n",
       "      <td>...</td>\n",
       "      <td>99.700</td>\n",
       "      <td>99.63</td>\n",
       "      <td>49.485</td>\n",
       "      <td>40.925</td>\n",
       "      <td>76.300</td>\n",
       "      <td>32.275</td>\n",
       "      <td>62.075</td>\n",
       "      <td>76.83</td>\n",
       "      <td>114.23</td>\n",
       "      <td>62.6301</td>\n",
       "    </tr>\n",
       "    <tr>\n",
       "      <th>41265</th>\n",
       "      <td>1504209600</td>\n",
       "      <td>2471.49</td>\n",
       "      <td>44.74</td>\n",
       "      <td>163.98</td>\n",
       "      <td>155.160</td>\n",
       "      <td>83.69</td>\n",
       "      <td>106.470</td>\n",
       "      <td>114.46</td>\n",
       "      <td>47.150</td>\n",
       "      <td>142.410</td>\n",
       "      <td>...</td>\n",
       "      <td>99.670</td>\n",
       "      <td>99.64</td>\n",
       "      <td>49.490</td>\n",
       "      <td>40.940</td>\n",
       "      <td>76.320</td>\n",
       "      <td>32.270</td>\n",
       "      <td>62.070</td>\n",
       "      <td>76.81</td>\n",
       "      <td>114.28</td>\n",
       "      <td>62.6800</td>\n",
       "    </tr>\n",
       "  </tbody>\n",
       "</table>\n",
       "<p>5 rows × 502 columns</p>\n",
       "</div>"
      ],
      "text/plain": [
       "             DATE    SP500  NASDAQ.AAL  NASDAQ.AAPL  NASDAQ.ADBE  NASDAQ.ADI  \\\n",
       "41261  1504209360  2472.22       44.72       164.11      155.090       83.67   \n",
       "41262  1504209420  2471.77       44.73       164.12      155.160       83.65   \n",
       "41263  1504209480  2470.03       44.74       164.01      155.065       83.62   \n",
       "41264  1504209540  2471.49       44.71       163.88      154.960       83.58   \n",
       "41265  1504209600  2471.49       44.74       163.98      155.160       83.69   \n",
       "\n",
       "       NASDAQ.ADP  NASDAQ.ADSK  NASDAQ.AKAM  NASDAQ.ALXN    ...     NYSE.WYN  \\\n",
       "41261     106.565       114.49       47.150      142.425    ...       99.675   \n",
       "41262     106.590       114.52       47.150      142.450    ...       99.730   \n",
       "41263     106.520       114.47       47.150      142.330    ...       99.735   \n",
       "41264     106.400       114.33       47.135      142.170    ...       99.700   \n",
       "41265     106.470       114.46       47.150      142.410    ...       99.670   \n",
       "\n",
       "       NYSE.XEC  NYSE.XEL  NYSE.XL  NYSE.XOM  NYSE.XRX  NYSE.XYL  NYSE.YUM  \\\n",
       "41261     99.53    49.485   40.955    76.360    32.285    62.110     76.88   \n",
       "41262     99.63    49.480   40.960    76.370    32.295    62.100     76.90   \n",
       "41263     99.64    49.495   40.940    76.315    32.290    62.090     76.88   \n",
       "41264     99.63    49.485   40.925    76.300    32.275    62.075     76.83   \n",
       "41265     99.64    49.490   40.940    76.320    32.270    62.070     76.81   \n",
       "\n",
       "       NYSE.ZBH  NYSE.ZTS  \n",
       "41261    114.31   62.7250  \n",
       "41262    114.33   62.7100  \n",
       "41263    114.31   62.6850  \n",
       "41264    114.23   62.6301  \n",
       "41265    114.28   62.6800  \n",
       "\n",
       "[5 rows x 502 columns]"
      ]
     },
     "execution_count": 91,
     "metadata": {},
     "output_type": "execute_result"
    }
   ],
   "source": [
    "dataset.tail()"
   ]
  },
  {
   "cell_type": "code",
   "execution_count": 92,
   "metadata": {},
   "outputs": [
    {
     "name": "stdout",
     "output_type": "stream",
     "text": [
      "<class 'pandas.core.frame.DataFrame'>\n",
      "RangeIndex: 41266 entries, 0 to 41265\n",
      "Columns: 502 entries, DATE to NYSE.ZTS\n",
      "dtypes: float64(501), int64(1)\n",
      "memory usage: 158.0 MB\n"
     ]
    }
   ],
   "source": [
    "dataset.info()"
   ]
  },
  {
   "cell_type": "code",
   "execution_count": 93,
   "metadata": {},
   "outputs": [
    {
     "data": {
      "text/plain": [
       "(41266, 502)"
      ]
     },
     "execution_count": 93,
     "metadata": {},
     "output_type": "execute_result"
    }
   ],
   "source": [
    "dataset.shape"
   ]
  },
  {
   "cell_type": "code",
   "execution_count": 94,
   "metadata": {},
   "outputs": [
    {
     "data": {
      "text/plain": [
       "float64    501\n",
       "int64        1\n",
       "dtype: int64"
      ]
     },
     "execution_count": 94,
     "metadata": {},
     "output_type": "execute_result"
    }
   ],
   "source": [
    "dataset.get_dtype_counts()"
   ]
  },
  {
   "cell_type": "code",
   "execution_count": 95,
   "metadata": {},
   "outputs": [
    {
     "data": {
      "text/plain": [
       "0"
      ]
     },
     "execution_count": 95,
     "metadata": {},
     "output_type": "execute_result"
    }
   ],
   "source": [
    "# Check if there are any null values. Since there are many columns, total sum of rows or elements which are null \n",
    "# across all columns tells us whether we need to consider to impute or remove those rows\n",
    "dataset.isna().sum().sum()"
   ]
  },
  {
   "cell_type": "code",
   "execution_count": 96,
   "metadata": {},
   "outputs": [
    {
     "data": {
      "text/plain": [
       "0"
      ]
     },
     "execution_count": 96,
     "metadata": {},
     "output_type": "execute_result"
    }
   ],
   "source": [
    "# Check if there are any 0 values. Since there are many columns, total sum of rows or elements which have '0' values \n",
    "# across all columns tells us whether we need to consider to impute or clean/correct the data in those rows or elements\n",
    "dataset[dataset==0].any().sum()"
   ]
  },
  {
   "cell_type": "code",
   "execution_count": 97,
   "metadata": {},
   "outputs": [
    {
     "data": {
      "text/plain": [
       "0"
      ]
     },
     "execution_count": 97,
     "metadata": {},
     "output_type": "execute_result"
    }
   ],
   "source": [
    "# Check if there are any -ve values. Since there are many columns, total sum of rows or elements which have '-ve' values \n",
    "# across all columns tells us whether we need to consider to impute or clean/correct the data in those rows or elements\n",
    "dataset[dataset<0].any().sum()"
   ]
  },
  {
   "cell_type": "code",
   "execution_count": 98,
   "metadata": {},
   "outputs": [
    {
     "data": {
      "text/html": [
       "<div>\n",
       "<style scoped>\n",
       "    .dataframe tbody tr th:only-of-type {\n",
       "        vertical-align: middle;\n",
       "    }\n",
       "\n",
       "    .dataframe tbody tr th {\n",
       "        vertical-align: top;\n",
       "    }\n",
       "\n",
       "    .dataframe thead th {\n",
       "        text-align: right;\n",
       "    }\n",
       "</style>\n",
       "<table border=\"1\" class=\"dataframe\">\n",
       "  <thead>\n",
       "    <tr style=\"text-align: right;\">\n",
       "      <th></th>\n",
       "      <th>DATE</th>\n",
       "      <th>SP500</th>\n",
       "      <th>NASDAQ.AAL</th>\n",
       "      <th>NASDAQ.AAPL</th>\n",
       "      <th>NASDAQ.ADBE</th>\n",
       "      <th>NASDAQ.ADI</th>\n",
       "      <th>NASDAQ.ADP</th>\n",
       "      <th>NASDAQ.ADSK</th>\n",
       "      <th>NASDAQ.AKAM</th>\n",
       "      <th>NASDAQ.ALXN</th>\n",
       "      <th>...</th>\n",
       "      <th>NYSE.WYN</th>\n",
       "      <th>NYSE.XEC</th>\n",
       "      <th>NYSE.XEL</th>\n",
       "      <th>NYSE.XL</th>\n",
       "      <th>NYSE.XOM</th>\n",
       "      <th>NYSE.XRX</th>\n",
       "      <th>NYSE.XYL</th>\n",
       "      <th>NYSE.YUM</th>\n",
       "      <th>NYSE.ZBH</th>\n",
       "      <th>NYSE.ZTS</th>\n",
       "    </tr>\n",
       "  </thead>\n",
       "  <tbody>\n",
       "    <tr>\n",
       "      <th>count</th>\n",
       "      <td>4.126600e+04</td>\n",
       "      <td>41266.000000</td>\n",
       "      <td>41266.000000</td>\n",
       "      <td>41266.000000</td>\n",
       "      <td>41266.00000</td>\n",
       "      <td>41266.000000</td>\n",
       "      <td>41266.000000</td>\n",
       "      <td>41266.000000</td>\n",
       "      <td>41266.000000</td>\n",
       "      <td>41266.000000</td>\n",
       "      <td>...</td>\n",
       "      <td>41266.000000</td>\n",
       "      <td>41266.000000</td>\n",
       "      <td>41266.000000</td>\n",
       "      <td>41266.000000</td>\n",
       "      <td>41266.000000</td>\n",
       "      <td>41266.000000</td>\n",
       "      <td>41266.000000</td>\n",
       "      <td>41266.000000</td>\n",
       "      <td>41266.000000</td>\n",
       "      <td>41266.000000</td>\n",
       "    </tr>\n",
       "    <tr>\n",
       "      <th>mean</th>\n",
       "      <td>1.497749e+09</td>\n",
       "      <td>2421.537882</td>\n",
       "      <td>47.708346</td>\n",
       "      <td>150.453566</td>\n",
       "      <td>141.31793</td>\n",
       "      <td>79.446873</td>\n",
       "      <td>103.480398</td>\n",
       "      <td>102.998608</td>\n",
       "      <td>50.894352</td>\n",
       "      <td>122.981163</td>\n",
       "      <td>...</td>\n",
       "      <td>97.942211</td>\n",
       "      <td>104.740666</td>\n",
       "      <td>46.664402</td>\n",
       "      <td>43.043984</td>\n",
       "      <td>80.784595</td>\n",
       "      <td>19.300718</td>\n",
       "      <td>54.541988</td>\n",
       "      <td>71.757891</td>\n",
       "      <td>121.423515</td>\n",
       "      <td>60.183874</td>\n",
       "    </tr>\n",
       "    <tr>\n",
       "      <th>std</th>\n",
       "      <td>3.822211e+06</td>\n",
       "      <td>39.557135</td>\n",
       "      <td>3.259377</td>\n",
       "      <td>6.236826</td>\n",
       "      <td>6.91674</td>\n",
       "      <td>2.000283</td>\n",
       "      <td>4.424244</td>\n",
       "      <td>9.389788</td>\n",
       "      <td>4.833931</td>\n",
       "      <td>11.252010</td>\n",
       "      <td>...</td>\n",
       "      <td>5.411795</td>\n",
       "      <td>10.606694</td>\n",
       "      <td>1.508444</td>\n",
       "      <td>1.714533</td>\n",
       "      <td>1.840989</td>\n",
       "      <td>11.686532</td>\n",
       "      <td>3.526321</td>\n",
       "      <td>4.038272</td>\n",
       "      <td>5.607070</td>\n",
       "      <td>3.346887</td>\n",
       "    </tr>\n",
       "    <tr>\n",
       "      <th>min</th>\n",
       "      <td>1.491226e+09</td>\n",
       "      <td>2329.139900</td>\n",
       "      <td>40.830000</td>\n",
       "      <td>140.160000</td>\n",
       "      <td>128.24000</td>\n",
       "      <td>74.800000</td>\n",
       "      <td>95.870000</td>\n",
       "      <td>83.000000</td>\n",
       "      <td>44.650000</td>\n",
       "      <td>96.250000</td>\n",
       "      <td>...</td>\n",
       "      <td>83.410000</td>\n",
       "      <td>89.510000</td>\n",
       "      <td>44.090000</td>\n",
       "      <td>39.120000</td>\n",
       "      <td>76.060000</td>\n",
       "      <td>6.660000</td>\n",
       "      <td>48.820000</td>\n",
       "      <td>63.180000</td>\n",
       "      <td>110.120000</td>\n",
       "      <td>52.300000</td>\n",
       "    </tr>\n",
       "    <tr>\n",
       "      <th>25%</th>\n",
       "      <td>1.494432e+09</td>\n",
       "      <td>2390.860100</td>\n",
       "      <td>44.945400</td>\n",
       "      <td>144.640000</td>\n",
       "      <td>135.19500</td>\n",
       "      <td>78.030000</td>\n",
       "      <td>101.300000</td>\n",
       "      <td>94.820000</td>\n",
       "      <td>47.440000</td>\n",
       "      <td>116.950000</td>\n",
       "      <td>...</td>\n",
       "      <td>95.960000</td>\n",
       "      <td>95.010000</td>\n",
       "      <td>45.155000</td>\n",
       "      <td>41.955000</td>\n",
       "      <td>80.220000</td>\n",
       "      <td>7.045000</td>\n",
       "      <td>51.630000</td>\n",
       "      <td>69.110000</td>\n",
       "      <td>117.580000</td>\n",
       "      <td>59.620000</td>\n",
       "    </tr>\n",
       "    <tr>\n",
       "      <th>50%</th>\n",
       "      <td>1.497638e+09</td>\n",
       "      <td>2430.149900</td>\n",
       "      <td>48.360000</td>\n",
       "      <td>149.945000</td>\n",
       "      <td>142.26000</td>\n",
       "      <td>79.410000</td>\n",
       "      <td>102.440000</td>\n",
       "      <td>106.820000</td>\n",
       "      <td>49.509900</td>\n",
       "      <td>123.620000</td>\n",
       "      <td>...</td>\n",
       "      <td>99.250000</td>\n",
       "      <td>99.660000</td>\n",
       "      <td>46.810000</td>\n",
       "      <td>43.200000</td>\n",
       "      <td>81.150000</td>\n",
       "      <td>27.890000</td>\n",
       "      <td>53.850000</td>\n",
       "      <td>73.470000</td>\n",
       "      <td>120.650000</td>\n",
       "      <td>61.585600</td>\n",
       "    </tr>\n",
       "    <tr>\n",
       "      <th>75%</th>\n",
       "      <td>1.501090e+09</td>\n",
       "      <td>2448.820100</td>\n",
       "      <td>50.180000</td>\n",
       "      <td>155.065000</td>\n",
       "      <td>147.10000</td>\n",
       "      <td>80.580000</td>\n",
       "      <td>104.660000</td>\n",
       "      <td>110.490000</td>\n",
       "      <td>52.230000</td>\n",
       "      <td>132.218800</td>\n",
       "      <td>...</td>\n",
       "      <td>102.080000</td>\n",
       "      <td>117.034700</td>\n",
       "      <td>47.730000</td>\n",
       "      <td>44.370000</td>\n",
       "      <td>82.062050</td>\n",
       "      <td>30.470000</td>\n",
       "      <td>57.140000</td>\n",
       "      <td>74.750000</td>\n",
       "      <td>126.000000</td>\n",
       "      <td>62.540000</td>\n",
       "    </tr>\n",
       "    <tr>\n",
       "      <th>max</th>\n",
       "      <td>1.504210e+09</td>\n",
       "      <td>2490.649900</td>\n",
       "      <td>54.475000</td>\n",
       "      <td>164.510000</td>\n",
       "      <td>155.33000</td>\n",
       "      <td>90.440000</td>\n",
       "      <td>121.770000</td>\n",
       "      <td>119.270000</td>\n",
       "      <td>62.560000</td>\n",
       "      <td>142.875000</td>\n",
       "      <td>...</td>\n",
       "      <td>106.375000</td>\n",
       "      <td>123.870000</td>\n",
       "      <td>49.660000</td>\n",
       "      <td>47.210000</td>\n",
       "      <td>83.630000</td>\n",
       "      <td>32.930000</td>\n",
       "      <td>62.130000</td>\n",
       "      <td>77.120000</td>\n",
       "      <td>133.450000</td>\n",
       "      <td>63.840000</td>\n",
       "    </tr>\n",
       "  </tbody>\n",
       "</table>\n",
       "<p>8 rows × 502 columns</p>\n",
       "</div>"
      ],
      "text/plain": [
       "               DATE         SP500    NASDAQ.AAL   NASDAQ.AAPL  NASDAQ.ADBE  \\\n",
       "count  4.126600e+04  41266.000000  41266.000000  41266.000000  41266.00000   \n",
       "mean   1.497749e+09   2421.537882     47.708346    150.453566    141.31793   \n",
       "std    3.822211e+06     39.557135      3.259377      6.236826      6.91674   \n",
       "min    1.491226e+09   2329.139900     40.830000    140.160000    128.24000   \n",
       "25%    1.494432e+09   2390.860100     44.945400    144.640000    135.19500   \n",
       "50%    1.497638e+09   2430.149900     48.360000    149.945000    142.26000   \n",
       "75%    1.501090e+09   2448.820100     50.180000    155.065000    147.10000   \n",
       "max    1.504210e+09   2490.649900     54.475000    164.510000    155.33000   \n",
       "\n",
       "         NASDAQ.ADI    NASDAQ.ADP   NASDAQ.ADSK   NASDAQ.AKAM   NASDAQ.ALXN  \\\n",
       "count  41266.000000  41266.000000  41266.000000  41266.000000  41266.000000   \n",
       "mean      79.446873    103.480398    102.998608     50.894352    122.981163   \n",
       "std        2.000283      4.424244      9.389788      4.833931     11.252010   \n",
       "min       74.800000     95.870000     83.000000     44.650000     96.250000   \n",
       "25%       78.030000    101.300000     94.820000     47.440000    116.950000   \n",
       "50%       79.410000    102.440000    106.820000     49.509900    123.620000   \n",
       "75%       80.580000    104.660000    110.490000     52.230000    132.218800   \n",
       "max       90.440000    121.770000    119.270000     62.560000    142.875000   \n",
       "\n",
       "           ...           NYSE.WYN      NYSE.XEC      NYSE.XEL       NYSE.XL  \\\n",
       "count      ...       41266.000000  41266.000000  41266.000000  41266.000000   \n",
       "mean       ...          97.942211    104.740666     46.664402     43.043984   \n",
       "std        ...           5.411795     10.606694      1.508444      1.714533   \n",
       "min        ...          83.410000     89.510000     44.090000     39.120000   \n",
       "25%        ...          95.960000     95.010000     45.155000     41.955000   \n",
       "50%        ...          99.250000     99.660000     46.810000     43.200000   \n",
       "75%        ...         102.080000    117.034700     47.730000     44.370000   \n",
       "max        ...         106.375000    123.870000     49.660000     47.210000   \n",
       "\n",
       "           NYSE.XOM      NYSE.XRX      NYSE.XYL      NYSE.YUM      NYSE.ZBH  \\\n",
       "count  41266.000000  41266.000000  41266.000000  41266.000000  41266.000000   \n",
       "mean      80.784595     19.300718     54.541988     71.757891    121.423515   \n",
       "std        1.840989     11.686532      3.526321      4.038272      5.607070   \n",
       "min       76.060000      6.660000     48.820000     63.180000    110.120000   \n",
       "25%       80.220000      7.045000     51.630000     69.110000    117.580000   \n",
       "50%       81.150000     27.890000     53.850000     73.470000    120.650000   \n",
       "75%       82.062050     30.470000     57.140000     74.750000    126.000000   \n",
       "max       83.630000     32.930000     62.130000     77.120000    133.450000   \n",
       "\n",
       "           NYSE.ZTS  \n",
       "count  41266.000000  \n",
       "mean      60.183874  \n",
       "std        3.346887  \n",
       "min       52.300000  \n",
       "25%       59.620000  \n",
       "50%       61.585600  \n",
       "75%       62.540000  \n",
       "max       63.840000  \n",
       "\n",
       "[8 rows x 502 columns]"
      ]
     },
     "execution_count": 98,
     "metadata": {},
     "output_type": "execute_result"
    }
   ],
   "source": [
    "dataset.describe()"
   ]
  },
  {
   "cell_type": "code",
   "execution_count": 99,
   "metadata": {},
   "outputs": [],
   "source": [
    "dataset['DATE'] = pd.to_datetime(dataset['DATE'],unit='s')"
   ]
  },
  {
   "cell_type": "code",
   "execution_count": 100,
   "metadata": {},
   "outputs": [
    {
     "data": {
      "text/html": [
       "<div>\n",
       "<style scoped>\n",
       "    .dataframe tbody tr th:only-of-type {\n",
       "        vertical-align: middle;\n",
       "    }\n",
       "\n",
       "    .dataframe tbody tr th {\n",
       "        vertical-align: top;\n",
       "    }\n",
       "\n",
       "    .dataframe thead th {\n",
       "        text-align: right;\n",
       "    }\n",
       "</style>\n",
       "<table border=\"1\" class=\"dataframe\">\n",
       "  <thead>\n",
       "    <tr style=\"text-align: right;\">\n",
       "      <th></th>\n",
       "      <th>DATE</th>\n",
       "      <th>SP500</th>\n",
       "      <th>NASDAQ.AAL</th>\n",
       "      <th>NASDAQ.AAPL</th>\n",
       "      <th>NASDAQ.ADBE</th>\n",
       "      <th>NASDAQ.ADI</th>\n",
       "      <th>NASDAQ.ADP</th>\n",
       "      <th>NASDAQ.ADSK</th>\n",
       "      <th>NASDAQ.AKAM</th>\n",
       "      <th>NASDAQ.ALXN</th>\n",
       "      <th>...</th>\n",
       "      <th>NYSE.WYN</th>\n",
       "      <th>NYSE.XEC</th>\n",
       "      <th>NYSE.XEL</th>\n",
       "      <th>NYSE.XL</th>\n",
       "      <th>NYSE.XOM</th>\n",
       "      <th>NYSE.XRX</th>\n",
       "      <th>NYSE.XYL</th>\n",
       "      <th>NYSE.YUM</th>\n",
       "      <th>NYSE.ZBH</th>\n",
       "      <th>NYSE.ZTS</th>\n",
       "    </tr>\n",
       "  </thead>\n",
       "  <tbody>\n",
       "    <tr>\n",
       "      <th>0</th>\n",
       "      <td>2017-04-03 13:30:00</td>\n",
       "      <td>2363.6101</td>\n",
       "      <td>42.3300</td>\n",
       "      <td>143.6800</td>\n",
       "      <td>129.6300</td>\n",
       "      <td>82.040</td>\n",
       "      <td>102.2300</td>\n",
       "      <td>85.2200</td>\n",
       "      <td>59.760</td>\n",
       "      <td>121.52</td>\n",
       "      <td>...</td>\n",
       "      <td>84.370</td>\n",
       "      <td>119.035</td>\n",
       "      <td>44.40</td>\n",
       "      <td>39.88</td>\n",
       "      <td>82.03</td>\n",
       "      <td>7.36</td>\n",
       "      <td>50.22</td>\n",
       "      <td>63.86</td>\n",
       "      <td>122.000</td>\n",
       "      <td>53.350</td>\n",
       "    </tr>\n",
       "    <tr>\n",
       "      <th>1</th>\n",
       "      <td>2017-04-03 13:31:00</td>\n",
       "      <td>2364.1001</td>\n",
       "      <td>42.3600</td>\n",
       "      <td>143.7000</td>\n",
       "      <td>130.3200</td>\n",
       "      <td>82.080</td>\n",
       "      <td>102.1400</td>\n",
       "      <td>85.6500</td>\n",
       "      <td>59.840</td>\n",
       "      <td>121.48</td>\n",
       "      <td>...</td>\n",
       "      <td>84.370</td>\n",
       "      <td>119.035</td>\n",
       "      <td>44.11</td>\n",
       "      <td>39.88</td>\n",
       "      <td>82.03</td>\n",
       "      <td>7.38</td>\n",
       "      <td>50.22</td>\n",
       "      <td>63.74</td>\n",
       "      <td>121.770</td>\n",
       "      <td>53.350</td>\n",
       "    </tr>\n",
       "    <tr>\n",
       "      <th>2</th>\n",
       "      <td>2017-04-03 13:32:00</td>\n",
       "      <td>2362.6799</td>\n",
       "      <td>42.3100</td>\n",
       "      <td>143.6901</td>\n",
       "      <td>130.2250</td>\n",
       "      <td>82.030</td>\n",
       "      <td>102.2125</td>\n",
       "      <td>85.5100</td>\n",
       "      <td>59.795</td>\n",
       "      <td>121.93</td>\n",
       "      <td>...</td>\n",
       "      <td>84.585</td>\n",
       "      <td>119.260</td>\n",
       "      <td>44.09</td>\n",
       "      <td>39.98</td>\n",
       "      <td>82.02</td>\n",
       "      <td>7.36</td>\n",
       "      <td>50.12</td>\n",
       "      <td>63.75</td>\n",
       "      <td>121.700</td>\n",
       "      <td>53.365</td>\n",
       "    </tr>\n",
       "    <tr>\n",
       "      <th>3</th>\n",
       "      <td>2017-04-03 13:33:00</td>\n",
       "      <td>2364.3101</td>\n",
       "      <td>42.3700</td>\n",
       "      <td>143.6400</td>\n",
       "      <td>130.0729</td>\n",
       "      <td>82.000</td>\n",
       "      <td>102.1400</td>\n",
       "      <td>85.4872</td>\n",
       "      <td>59.620</td>\n",
       "      <td>121.44</td>\n",
       "      <td>...</td>\n",
       "      <td>84.460</td>\n",
       "      <td>119.260</td>\n",
       "      <td>44.25</td>\n",
       "      <td>39.99</td>\n",
       "      <td>82.02</td>\n",
       "      <td>7.35</td>\n",
       "      <td>50.16</td>\n",
       "      <td>63.88</td>\n",
       "      <td>121.700</td>\n",
       "      <td>53.380</td>\n",
       "    </tr>\n",
       "    <tr>\n",
       "      <th>4</th>\n",
       "      <td>2017-04-03 13:34:00</td>\n",
       "      <td>2364.8501</td>\n",
       "      <td>42.5378</td>\n",
       "      <td>143.6600</td>\n",
       "      <td>129.8800</td>\n",
       "      <td>82.035</td>\n",
       "      <td>102.0600</td>\n",
       "      <td>85.7001</td>\n",
       "      <td>59.620</td>\n",
       "      <td>121.60</td>\n",
       "      <td>...</td>\n",
       "      <td>84.470</td>\n",
       "      <td>119.610</td>\n",
       "      <td>44.11</td>\n",
       "      <td>39.96</td>\n",
       "      <td>82.03</td>\n",
       "      <td>7.36</td>\n",
       "      <td>50.20</td>\n",
       "      <td>63.91</td>\n",
       "      <td>121.695</td>\n",
       "      <td>53.240</td>\n",
       "    </tr>\n",
       "  </tbody>\n",
       "</table>\n",
       "<p>5 rows × 502 columns</p>\n",
       "</div>"
      ],
      "text/plain": [
       "                 DATE      SP500  NASDAQ.AAL  NASDAQ.AAPL  NASDAQ.ADBE  \\\n",
       "0 2017-04-03 13:30:00  2363.6101     42.3300     143.6800     129.6300   \n",
       "1 2017-04-03 13:31:00  2364.1001     42.3600     143.7000     130.3200   \n",
       "2 2017-04-03 13:32:00  2362.6799     42.3100     143.6901     130.2250   \n",
       "3 2017-04-03 13:33:00  2364.3101     42.3700     143.6400     130.0729   \n",
       "4 2017-04-03 13:34:00  2364.8501     42.5378     143.6600     129.8800   \n",
       "\n",
       "   NASDAQ.ADI  NASDAQ.ADP  NASDAQ.ADSK  NASDAQ.AKAM  NASDAQ.ALXN    ...     \\\n",
       "0      82.040    102.2300      85.2200       59.760       121.52    ...      \n",
       "1      82.080    102.1400      85.6500       59.840       121.48    ...      \n",
       "2      82.030    102.2125      85.5100       59.795       121.93    ...      \n",
       "3      82.000    102.1400      85.4872       59.620       121.44    ...      \n",
       "4      82.035    102.0600      85.7001       59.620       121.60    ...      \n",
       "\n",
       "   NYSE.WYN  NYSE.XEC  NYSE.XEL  NYSE.XL  NYSE.XOM  NYSE.XRX  NYSE.XYL  \\\n",
       "0    84.370   119.035     44.40    39.88     82.03      7.36     50.22   \n",
       "1    84.370   119.035     44.11    39.88     82.03      7.38     50.22   \n",
       "2    84.585   119.260     44.09    39.98     82.02      7.36     50.12   \n",
       "3    84.460   119.260     44.25    39.99     82.02      7.35     50.16   \n",
       "4    84.470   119.610     44.11    39.96     82.03      7.36     50.20   \n",
       "\n",
       "   NYSE.YUM  NYSE.ZBH  NYSE.ZTS  \n",
       "0     63.86   122.000    53.350  \n",
       "1     63.74   121.770    53.350  \n",
       "2     63.75   121.700    53.365  \n",
       "3     63.88   121.700    53.380  \n",
       "4     63.91   121.695    53.240  \n",
       "\n",
       "[5 rows x 502 columns]"
      ]
     },
     "execution_count": 100,
     "metadata": {},
     "output_type": "execute_result"
    }
   ],
   "source": [
    "dataset.head()"
   ]
  },
  {
   "cell_type": "code",
   "execution_count": 101,
   "metadata": {},
   "outputs": [],
   "source": [
    "stock_data=dataset.copy()"
   ]
  },
  {
   "cell_type": "code",
   "execution_count": 102,
   "metadata": {},
   "outputs": [],
   "source": [
    "# Create DF_list1 -> Dictionary which contains all the stocks data items with the Closing values\n",
    "DF_list = {}\n",
    "DF_list1 = {}\n",
    "df2 = pd.DataFrame()\n",
    "for column in stock_data.columns[1:]:\n",
    "    try :\n",
    "        df_col = column.split('.')[1]\n",
    "        #print(df_col)\n",
    "    except :\n",
    "        df_col = column        \n",
    "        \n",
    "    Open = stock_data.groupby([stock_data['DATE'].dt.date])[column].first()\n",
    "    Low = stock_data.groupby([stock_data['DATE'].dt.date])[column].min()\n",
    "    High = stock_data.groupby([stock_data['DATE'].dt.date])[column].max()\n",
    "    Close = stock_data.groupby([stock_data['DATE'].dt.date])[column].last()\n",
    "        \n",
    "    df = pd.DataFrame([Open,Close,Low,High])\n",
    "    #df1 = pd.concat([df1,Close])\n",
    "    df1 = pd.DataFrame([Close])\n",
    "    \n",
    "    df = df.transpose()\n",
    "    df1 = df1.transpose()\n",
    "    \n",
    "    df.columns = ['Open','Low','High','Close']\n",
    "    df1.columns = [df_col]\n",
    "    \n",
    "    DF_list[df_col] = df\n",
    "    DF_list1[df_col] = df1"
   ]
  },
  {
   "cell_type": "code",
   "execution_count": 103,
   "metadata": {},
   "outputs": [
    {
     "data": {
      "text/html": [
       "<div>\n",
       "<style scoped>\n",
       "    .dataframe tbody tr th:only-of-type {\n",
       "        vertical-align: middle;\n",
       "    }\n",
       "\n",
       "    .dataframe tbody tr th {\n",
       "        vertical-align: top;\n",
       "    }\n",
       "\n",
       "    .dataframe thead th {\n",
       "        text-align: right;\n",
       "    }\n",
       "</style>\n",
       "<table border=\"1\" class=\"dataframe\">\n",
       "  <thead>\n",
       "    <tr style=\"text-align: right;\">\n",
       "      <th></th>\n",
       "      <th>DATE</th>\n",
       "      <th>AAL</th>\n",
       "      <th>SP500</th>\n",
       "      <th>AAPL</th>\n",
       "      <th>ADBE</th>\n",
       "      <th>ADI</th>\n",
       "      <th>ADP</th>\n",
       "      <th>ADSK</th>\n",
       "      <th>AKAM</th>\n",
       "      <th>ALXN</th>\n",
       "      <th>...</th>\n",
       "      <th>WYN</th>\n",
       "      <th>XEC</th>\n",
       "      <th>XEL</th>\n",
       "      <th>XL</th>\n",
       "      <th>XOM</th>\n",
       "      <th>XRX</th>\n",
       "      <th>XYL</th>\n",
       "      <th>YUM</th>\n",
       "      <th>ZBH</th>\n",
       "      <th>ZTS</th>\n",
       "    </tr>\n",
       "  </thead>\n",
       "  <tbody>\n",
       "    <tr>\n",
       "      <th>0</th>\n",
       "      <td>2017-04-03</td>\n",
       "      <td>42.48</td>\n",
       "      <td>2358.9600</td>\n",
       "      <td>143.700</td>\n",
       "      <td>129.62</td>\n",
       "      <td>81.22</td>\n",
       "      <td>101.27</td>\n",
       "      <td>85.39</td>\n",
       "      <td>58.10</td>\n",
       "      <td>119.28</td>\n",
       "      <td>...</td>\n",
       "      <td>84.01</td>\n",
       "      <td>118.11</td>\n",
       "      <td>44.39</td>\n",
       "      <td>39.39</td>\n",
       "      <td>82.08</td>\n",
       "      <td>7.25</td>\n",
       "      <td>49.43</td>\n",
       "      <td>63.55</td>\n",
       "      <td>121.35</td>\n",
       "      <td>53.175</td>\n",
       "    </tr>\n",
       "    <tr>\n",
       "      <th>1</th>\n",
       "      <td>2017-04-04</td>\n",
       "      <td>40.90</td>\n",
       "      <td>2359.9600</td>\n",
       "      <td>144.770</td>\n",
       "      <td>130.04</td>\n",
       "      <td>81.24</td>\n",
       "      <td>101.45</td>\n",
       "      <td>84.95</td>\n",
       "      <td>59.30</td>\n",
       "      <td>118.30</td>\n",
       "      <td>...</td>\n",
       "      <td>84.18</td>\n",
       "      <td>119.92</td>\n",
       "      <td>44.50</td>\n",
       "      <td>39.71</td>\n",
       "      <td>82.34</td>\n",
       "      <td>7.22</td>\n",
       "      <td>50.36</td>\n",
       "      <td>63.84</td>\n",
       "      <td>120.78</td>\n",
       "      <td>52.640</td>\n",
       "    </tr>\n",
       "    <tr>\n",
       "      <th>2</th>\n",
       "      <td>2017-04-05</td>\n",
       "      <td>41.31</td>\n",
       "      <td>2352.8401</td>\n",
       "      <td>144.020</td>\n",
       "      <td>129.89</td>\n",
       "      <td>80.04</td>\n",
       "      <td>101.93</td>\n",
       "      <td>83.54</td>\n",
       "      <td>58.80</td>\n",
       "      <td>116.21</td>\n",
       "      <td>...</td>\n",
       "      <td>84.34</td>\n",
       "      <td>117.65</td>\n",
       "      <td>44.81</td>\n",
       "      <td>39.37</td>\n",
       "      <td>82.53</td>\n",
       "      <td>7.15</td>\n",
       "      <td>50.41</td>\n",
       "      <td>63.87</td>\n",
       "      <td>120.17</td>\n",
       "      <td>52.670</td>\n",
       "    </tr>\n",
       "    <tr>\n",
       "      <th>3</th>\n",
       "      <td>2017-04-06</td>\n",
       "      <td>41.72</td>\n",
       "      <td>2357.6699</td>\n",
       "      <td>143.685</td>\n",
       "      <td>130.15</td>\n",
       "      <td>80.32</td>\n",
       "      <td>101.75</td>\n",
       "      <td>84.07</td>\n",
       "      <td>58.73</td>\n",
       "      <td>115.49</td>\n",
       "      <td>...</td>\n",
       "      <td>85.17</td>\n",
       "      <td>118.14</td>\n",
       "      <td>44.60</td>\n",
       "      <td>39.80</td>\n",
       "      <td>83.02</td>\n",
       "      <td>7.13</td>\n",
       "      <td>50.93</td>\n",
       "      <td>64.56</td>\n",
       "      <td>120.22</td>\n",
       "      <td>52.680</td>\n",
       "    </tr>\n",
       "    <tr>\n",
       "      <th>4</th>\n",
       "      <td>2017-04-07</td>\n",
       "      <td>41.81</td>\n",
       "      <td>2355.6899</td>\n",
       "      <td>143.340</td>\n",
       "      <td>130.22</td>\n",
       "      <td>80.01</td>\n",
       "      <td>102.19</td>\n",
       "      <td>84.79</td>\n",
       "      <td>58.10</td>\n",
       "      <td>115.62</td>\n",
       "      <td>...</td>\n",
       "      <td>84.69</td>\n",
       "      <td>118.22</td>\n",
       "      <td>44.40</td>\n",
       "      <td>39.82</td>\n",
       "      <td>82.78</td>\n",
       "      <td>7.13</td>\n",
       "      <td>50.84</td>\n",
       "      <td>64.28</td>\n",
       "      <td>119.88</td>\n",
       "      <td>52.550</td>\n",
       "    </tr>\n",
       "  </tbody>\n",
       "</table>\n",
       "<p>5 rows × 502 columns</p>\n",
       "</div>"
      ],
      "text/plain": [
       "         DATE    AAL      SP500     AAPL    ADBE    ADI     ADP   ADSK   AKAM  \\\n",
       "0  2017-04-03  42.48  2358.9600  143.700  129.62  81.22  101.27  85.39  58.10   \n",
       "1  2017-04-04  40.90  2359.9600  144.770  130.04  81.24  101.45  84.95  59.30   \n",
       "2  2017-04-05  41.31  2352.8401  144.020  129.89  80.04  101.93  83.54  58.80   \n",
       "3  2017-04-06  41.72  2357.6699  143.685  130.15  80.32  101.75  84.07  58.73   \n",
       "4  2017-04-07  41.81  2355.6899  143.340  130.22  80.01  102.19  84.79  58.10   \n",
       "\n",
       "     ALXN   ...      WYN     XEC    XEL     XL    XOM   XRX    XYL    YUM  \\\n",
       "0  119.28   ...    84.01  118.11  44.39  39.39  82.08  7.25  49.43  63.55   \n",
       "1  118.30   ...    84.18  119.92  44.50  39.71  82.34  7.22  50.36  63.84   \n",
       "2  116.21   ...    84.34  117.65  44.81  39.37  82.53  7.15  50.41  63.87   \n",
       "3  115.49   ...    85.17  118.14  44.60  39.80  83.02  7.13  50.93  64.56   \n",
       "4  115.62   ...    84.69  118.22  44.40  39.82  82.78  7.13  50.84  64.28   \n",
       "\n",
       "      ZBH     ZTS  \n",
       "0  121.35  53.175  \n",
       "1  120.78  52.640  \n",
       "2  120.17  52.670  \n",
       "3  120.22  52.680  \n",
       "4  119.88  52.550  \n",
       "\n",
       "[5 rows x 502 columns]"
      ]
     },
     "execution_count": 103,
     "metadata": {},
     "output_type": "execute_result"
    }
   ],
   "source": [
    "# Create a DataFrame df5 (Merge all the stock data present in the dictionary DF_list1)\n",
    "df5 = DF_list1['AAL'].reset_index()\n",
    "for item in DF_list1.keys():\n",
    "   \n",
    "    df5 = pd.merge(df5,DF_list1[item].reset_index())\n",
    "#StockPriceData = df5.drop('DATE', axis=1)\n",
    "#StockPriceData.index = pd.to_datetime(StockPriceData.index)\n",
    "df5.head()\n"
   ]
  },
  {
   "cell_type": "code",
   "execution_count": 104,
   "metadata": {},
   "outputs": [],
   "source": [
    "df5['DATE'] = pd.to_datetime(df5['DATE'])"
   ]
  },
  {
   "cell_type": "code",
   "execution_count": 105,
   "metadata": {},
   "outputs": [],
   "source": [
    "df5.set_index('DATE',inplace=True)\n",
    "StockPriceData=df5"
   ]
  },
  {
   "cell_type": "code",
   "execution_count": 106,
   "metadata": {},
   "outputs": [
    {
     "data": {
      "text/plain": [
       "DatetimeIndex(['2017-04-03', '2017-04-04', '2017-04-05', '2017-04-06',\n",
       "               '2017-04-07', '2017-04-10', '2017-04-11', '2017-04-12',\n",
       "               '2017-04-13', '2017-04-17',\n",
       "               ...\n",
       "               '2017-08-18', '2017-08-21', '2017-08-22', '2017-08-23',\n",
       "               '2017-08-24', '2017-08-25', '2017-08-28', '2017-08-29',\n",
       "               '2017-08-30', '2017-08-31'],\n",
       "              dtype='datetime64[ns]', name='DATE', length=106, freq=None)"
      ]
     },
     "execution_count": 106,
     "metadata": {},
     "output_type": "execute_result"
    }
   ],
   "source": [
    "StockPriceData.index"
   ]
  },
  {
   "cell_type": "code",
   "execution_count": 107,
   "metadata": {},
   "outputs": [
    {
     "data": {
      "text/html": [
       "<div>\n",
       "<style scoped>\n",
       "    .dataframe tbody tr th:only-of-type {\n",
       "        vertical-align: middle;\n",
       "    }\n",
       "\n",
       "    .dataframe tbody tr th {\n",
       "        vertical-align: top;\n",
       "    }\n",
       "\n",
       "    .dataframe thead th {\n",
       "        text-align: right;\n",
       "    }\n",
       "</style>\n",
       "<table border=\"1\" class=\"dataframe\">\n",
       "  <thead>\n",
       "    <tr style=\"text-align: right;\">\n",
       "      <th></th>\n",
       "      <th>AAL</th>\n",
       "      <th>SP500</th>\n",
       "      <th>AAPL</th>\n",
       "      <th>ADBE</th>\n",
       "      <th>ADI</th>\n",
       "      <th>ADP</th>\n",
       "      <th>ADSK</th>\n",
       "      <th>AKAM</th>\n",
       "      <th>ALXN</th>\n",
       "      <th>AMAT</th>\n",
       "      <th>...</th>\n",
       "      <th>WYN</th>\n",
       "      <th>XEC</th>\n",
       "      <th>XEL</th>\n",
       "      <th>XL</th>\n",
       "      <th>XOM</th>\n",
       "      <th>XRX</th>\n",
       "      <th>XYL</th>\n",
       "      <th>YUM</th>\n",
       "      <th>ZBH</th>\n",
       "      <th>ZTS</th>\n",
       "    </tr>\n",
       "    <tr>\n",
       "      <th>DATE</th>\n",
       "      <th></th>\n",
       "      <th></th>\n",
       "      <th></th>\n",
       "      <th></th>\n",
       "      <th></th>\n",
       "      <th></th>\n",
       "      <th></th>\n",
       "      <th></th>\n",
       "      <th></th>\n",
       "      <th></th>\n",
       "      <th></th>\n",
       "      <th></th>\n",
       "      <th></th>\n",
       "      <th></th>\n",
       "      <th></th>\n",
       "      <th></th>\n",
       "      <th></th>\n",
       "      <th></th>\n",
       "      <th></th>\n",
       "      <th></th>\n",
       "      <th></th>\n",
       "    </tr>\n",
       "  </thead>\n",
       "  <tbody>\n",
       "    <tr>\n",
       "      <th>2017-04-03</th>\n",
       "      <td>42.48</td>\n",
       "      <td>2358.9600</td>\n",
       "      <td>143.700</td>\n",
       "      <td>129.62</td>\n",
       "      <td>81.22</td>\n",
       "      <td>101.27</td>\n",
       "      <td>85.39</td>\n",
       "      <td>58.10</td>\n",
       "      <td>119.28</td>\n",
       "      <td>38.89</td>\n",
       "      <td>...</td>\n",
       "      <td>84.01</td>\n",
       "      <td>118.11</td>\n",
       "      <td>44.39</td>\n",
       "      <td>39.39</td>\n",
       "      <td>82.08</td>\n",
       "      <td>7.25</td>\n",
       "      <td>49.43</td>\n",
       "      <td>63.55</td>\n",
       "      <td>121.35</td>\n",
       "      <td>53.175</td>\n",
       "    </tr>\n",
       "    <tr>\n",
       "      <th>2017-04-04</th>\n",
       "      <td>40.90</td>\n",
       "      <td>2359.9600</td>\n",
       "      <td>144.770</td>\n",
       "      <td>130.04</td>\n",
       "      <td>81.24</td>\n",
       "      <td>101.45</td>\n",
       "      <td>84.95</td>\n",
       "      <td>59.30</td>\n",
       "      <td>118.30</td>\n",
       "      <td>39.00</td>\n",
       "      <td>...</td>\n",
       "      <td>84.18</td>\n",
       "      <td>119.92</td>\n",
       "      <td>44.50</td>\n",
       "      <td>39.71</td>\n",
       "      <td>82.34</td>\n",
       "      <td>7.22</td>\n",
       "      <td>50.36</td>\n",
       "      <td>63.84</td>\n",
       "      <td>120.78</td>\n",
       "      <td>52.640</td>\n",
       "    </tr>\n",
       "    <tr>\n",
       "      <th>2017-04-05</th>\n",
       "      <td>41.31</td>\n",
       "      <td>2352.8401</td>\n",
       "      <td>144.020</td>\n",
       "      <td>129.89</td>\n",
       "      <td>80.04</td>\n",
       "      <td>101.93</td>\n",
       "      <td>83.54</td>\n",
       "      <td>58.80</td>\n",
       "      <td>116.21</td>\n",
       "      <td>38.38</td>\n",
       "      <td>...</td>\n",
       "      <td>84.34</td>\n",
       "      <td>117.65</td>\n",
       "      <td>44.81</td>\n",
       "      <td>39.37</td>\n",
       "      <td>82.53</td>\n",
       "      <td>7.15</td>\n",
       "      <td>50.41</td>\n",
       "      <td>63.87</td>\n",
       "      <td>120.17</td>\n",
       "      <td>52.670</td>\n",
       "    </tr>\n",
       "    <tr>\n",
       "      <th>2017-04-06</th>\n",
       "      <td>41.72</td>\n",
       "      <td>2357.6699</td>\n",
       "      <td>143.685</td>\n",
       "      <td>130.15</td>\n",
       "      <td>80.32</td>\n",
       "      <td>101.75</td>\n",
       "      <td>84.07</td>\n",
       "      <td>58.73</td>\n",
       "      <td>115.49</td>\n",
       "      <td>38.59</td>\n",
       "      <td>...</td>\n",
       "      <td>85.17</td>\n",
       "      <td>118.14</td>\n",
       "      <td>44.60</td>\n",
       "      <td>39.80</td>\n",
       "      <td>83.02</td>\n",
       "      <td>7.13</td>\n",
       "      <td>50.93</td>\n",
       "      <td>64.56</td>\n",
       "      <td>120.22</td>\n",
       "      <td>52.680</td>\n",
       "    </tr>\n",
       "    <tr>\n",
       "      <th>2017-04-07</th>\n",
       "      <td>41.81</td>\n",
       "      <td>2355.6899</td>\n",
       "      <td>143.340</td>\n",
       "      <td>130.22</td>\n",
       "      <td>80.01</td>\n",
       "      <td>102.19</td>\n",
       "      <td>84.79</td>\n",
       "      <td>58.10</td>\n",
       "      <td>115.62</td>\n",
       "      <td>38.93</td>\n",
       "      <td>...</td>\n",
       "      <td>84.69</td>\n",
       "      <td>118.22</td>\n",
       "      <td>44.40</td>\n",
       "      <td>39.82</td>\n",
       "      <td>82.78</td>\n",
       "      <td>7.13</td>\n",
       "      <td>50.84</td>\n",
       "      <td>64.28</td>\n",
       "      <td>119.88</td>\n",
       "      <td>52.550</td>\n",
       "    </tr>\n",
       "  </tbody>\n",
       "</table>\n",
       "<p>5 rows × 501 columns</p>\n",
       "</div>"
      ],
      "text/plain": [
       "              AAL      SP500     AAPL    ADBE    ADI     ADP   ADSK   AKAM  \\\n",
       "DATE                                                                         \n",
       "2017-04-03  42.48  2358.9600  143.700  129.62  81.22  101.27  85.39  58.10   \n",
       "2017-04-04  40.90  2359.9600  144.770  130.04  81.24  101.45  84.95  59.30   \n",
       "2017-04-05  41.31  2352.8401  144.020  129.89  80.04  101.93  83.54  58.80   \n",
       "2017-04-06  41.72  2357.6699  143.685  130.15  80.32  101.75  84.07  58.73   \n",
       "2017-04-07  41.81  2355.6899  143.340  130.22  80.01  102.19  84.79  58.10   \n",
       "\n",
       "              ALXN   AMAT   ...      WYN     XEC    XEL     XL    XOM   XRX  \\\n",
       "DATE                        ...                                               \n",
       "2017-04-03  119.28  38.89   ...    84.01  118.11  44.39  39.39  82.08  7.25   \n",
       "2017-04-04  118.30  39.00   ...    84.18  119.92  44.50  39.71  82.34  7.22   \n",
       "2017-04-05  116.21  38.38   ...    84.34  117.65  44.81  39.37  82.53  7.15   \n",
       "2017-04-06  115.49  38.59   ...    85.17  118.14  44.60  39.80  83.02  7.13   \n",
       "2017-04-07  115.62  38.93   ...    84.69  118.22  44.40  39.82  82.78  7.13   \n",
       "\n",
       "              XYL    YUM     ZBH     ZTS  \n",
       "DATE                                      \n",
       "2017-04-03  49.43  63.55  121.35  53.175  \n",
       "2017-04-04  50.36  63.84  120.78  52.640  \n",
       "2017-04-05  50.41  63.87  120.17  52.670  \n",
       "2017-04-06  50.93  64.56  120.22  52.680  \n",
       "2017-04-07  50.84  64.28  119.88  52.550  \n",
       "\n",
       "[5 rows x 501 columns]"
      ]
     },
     "execution_count": 107,
     "metadata": {},
     "output_type": "execute_result"
    }
   ],
   "source": [
    "StockPriceData.head()"
   ]
  },
  {
   "cell_type": "code",
   "execution_count": 108,
   "metadata": {},
   "outputs": [],
   "source": [
    "#take the apple price and forecase\n",
    "stockAPPL=pd.DataFrame(StockPriceData.AAPL)"
   ]
  },
  {
   "cell_type": "code",
   "execution_count": 109,
   "metadata": {
    "scrolled": true
   },
   "outputs": [
    {
     "data": {
      "text/html": [
       "<div>\n",
       "<style scoped>\n",
       "    .dataframe tbody tr th:only-of-type {\n",
       "        vertical-align: middle;\n",
       "    }\n",
       "\n",
       "    .dataframe tbody tr th {\n",
       "        vertical-align: top;\n",
       "    }\n",
       "\n",
       "    .dataframe thead th {\n",
       "        text-align: right;\n",
       "    }\n",
       "</style>\n",
       "<table border=\"1\" class=\"dataframe\">\n",
       "  <thead>\n",
       "    <tr style=\"text-align: right;\">\n",
       "      <th></th>\n",
       "      <th>AAPL</th>\n",
       "    </tr>\n",
       "    <tr>\n",
       "      <th>DATE</th>\n",
       "      <th></th>\n",
       "    </tr>\n",
       "  </thead>\n",
       "  <tbody>\n",
       "    <tr>\n",
       "      <th>2017-04-03</th>\n",
       "      <td>143.700</td>\n",
       "    </tr>\n",
       "    <tr>\n",
       "      <th>2017-04-04</th>\n",
       "      <td>144.770</td>\n",
       "    </tr>\n",
       "    <tr>\n",
       "      <th>2017-04-05</th>\n",
       "      <td>144.020</td>\n",
       "    </tr>\n",
       "    <tr>\n",
       "      <th>2017-04-06</th>\n",
       "      <td>143.685</td>\n",
       "    </tr>\n",
       "    <tr>\n",
       "      <th>2017-04-07</th>\n",
       "      <td>143.340</td>\n",
       "    </tr>\n",
       "  </tbody>\n",
       "</table>\n",
       "</div>"
      ],
      "text/plain": [
       "               AAPL\n",
       "DATE               \n",
       "2017-04-03  143.700\n",
       "2017-04-04  144.770\n",
       "2017-04-05  144.020\n",
       "2017-04-06  143.685\n",
       "2017-04-07  143.340"
      ]
     },
     "execution_count": 109,
     "metadata": {},
     "output_type": "execute_result"
    }
   ],
   "source": [
    "stockAPPL.head()"
   ]
  },
  {
   "cell_type": "code",
   "execution_count": 110,
   "metadata": {},
   "outputs": [
    {
     "data": {
      "text/html": [
       "<div>\n",
       "<style scoped>\n",
       "    .dataframe tbody tr th:only-of-type {\n",
       "        vertical-align: middle;\n",
       "    }\n",
       "\n",
       "    .dataframe tbody tr th {\n",
       "        vertical-align: top;\n",
       "    }\n",
       "\n",
       "    .dataframe thead th {\n",
       "        text-align: right;\n",
       "    }\n",
       "</style>\n",
       "<table border=\"1\" class=\"dataframe\">\n",
       "  <thead>\n",
       "    <tr style=\"text-align: right;\">\n",
       "      <th></th>\n",
       "      <th>AAPL</th>\n",
       "    </tr>\n",
       "    <tr>\n",
       "      <th>DATE</th>\n",
       "      <th></th>\n",
       "    </tr>\n",
       "  </thead>\n",
       "  <tbody>\n",
       "    <tr>\n",
       "      <th>2017-08-25</th>\n",
       "      <td>159.86</td>\n",
       "    </tr>\n",
       "    <tr>\n",
       "      <th>2017-08-28</th>\n",
       "      <td>161.47</td>\n",
       "    </tr>\n",
       "    <tr>\n",
       "      <th>2017-08-29</th>\n",
       "      <td>162.97</td>\n",
       "    </tr>\n",
       "    <tr>\n",
       "      <th>2017-08-30</th>\n",
       "      <td>163.35</td>\n",
       "    </tr>\n",
       "    <tr>\n",
       "      <th>2017-08-31</th>\n",
       "      <td>163.98</td>\n",
       "    </tr>\n",
       "  </tbody>\n",
       "</table>\n",
       "</div>"
      ],
      "text/plain": [
       "              AAPL\n",
       "DATE              \n",
       "2017-08-25  159.86\n",
       "2017-08-28  161.47\n",
       "2017-08-29  162.97\n",
       "2017-08-30  163.35\n",
       "2017-08-31  163.98"
      ]
     },
     "execution_count": 110,
     "metadata": {},
     "output_type": "execute_result"
    }
   ],
   "source": [
    "stockAPPL.tail()"
   ]
  },
  {
   "cell_type": "code",
   "execution_count": 111,
   "metadata": {},
   "outputs": [
    {
     "data": {
      "text/html": [
       "<div>\n",
       "<style scoped>\n",
       "    .dataframe tbody tr th:only-of-type {\n",
       "        vertical-align: middle;\n",
       "    }\n",
       "\n",
       "    .dataframe tbody tr th {\n",
       "        vertical-align: top;\n",
       "    }\n",
       "\n",
       "    .dataframe thead th {\n",
       "        text-align: right;\n",
       "    }\n",
       "</style>\n",
       "<table border=\"1\" class=\"dataframe\">\n",
       "  <thead>\n",
       "    <tr style=\"text-align: right;\">\n",
       "      <th></th>\n",
       "      <th>count</th>\n",
       "      <th>mean</th>\n",
       "      <th>std</th>\n",
       "      <th>min</th>\n",
       "      <th>25%</th>\n",
       "      <th>50%</th>\n",
       "      <th>75%</th>\n",
       "      <th>max</th>\n",
       "    </tr>\n",
       "  </thead>\n",
       "  <tbody>\n",
       "    <tr>\n",
       "      <th>AAPL</th>\n",
       "      <td>106.0</td>\n",
       "      <td>150.372602</td>\n",
       "      <td>6.271409</td>\n",
       "      <td>140.68</td>\n",
       "      <td>144.5975</td>\n",
       "      <td>150.065</td>\n",
       "      <td>155.2375</td>\n",
       "      <td>163.98</td>\n",
       "    </tr>\n",
       "  </tbody>\n",
       "</table>\n",
       "</div>"
      ],
      "text/plain": [
       "      count        mean       std     min       25%      50%       75%     max\n",
       "AAPL  106.0  150.372602  6.271409  140.68  144.5975  150.065  155.2375  163.98"
      ]
     },
     "execution_count": 111,
     "metadata": {},
     "output_type": "execute_result"
    }
   ],
   "source": [
    "stockAPPL.describe().transpose()"
   ]
  },
  {
   "cell_type": "code",
   "execution_count": 112,
   "metadata": {},
   "outputs": [],
   "source": [
    "#Creating a column 'AAPL_LOG' with the log values of 'NASDAQ.AAPL' column data\n",
    "stockAPPL[\"AAPL_LOG\"] =stockAPPL['AAPL'].apply(lambda x:np.log(x)) "
   ]
  },
  {
   "cell_type": "code",
   "execution_count": 113,
   "metadata": {},
   "outputs": [],
   "source": [
    "StockPriceAPPL=stockAPPL.drop('AAPL',axis=1)"
   ]
  },
  {
   "cell_type": "code",
   "execution_count": 114,
   "metadata": {},
   "outputs": [
    {
     "data": {
      "text/plain": [
       "DATE\n",
       "2017-04-03    4.967728\n",
       "2017-04-04    4.975146\n",
       "2017-04-05    4.969952\n",
       "2017-04-06    4.967623\n",
       "2017-04-07    4.965219\n",
       "2017-04-10    4.963823\n",
       "2017-04-11    4.953218\n",
       "2017-04-12    4.954418\n",
       "2017-04-13    4.949114\n",
       "2017-04-17    4.954418\n",
       "2017-04-18    4.950177\n",
       "2017-04-19    4.946488\n",
       "2017-04-20    4.958921\n",
       "2017-04-21    4.957656\n",
       "2017-04-24    4.967171\n",
       "2017-04-25    4.973556\n",
       "2017-04-26    4.967589\n",
       "2017-04-27    4.968354\n",
       "2017-04-28    4.967380\n",
       "2017-05-01    4.987503\n",
       "2017-05-02    4.993625\n",
       "2017-05-03    4.990841\n",
       "2017-05-04    4.987230\n",
       "2017-05-05    5.003616\n",
       "2017-05-08    5.030438\n",
       "2017-05-09    5.036758\n",
       "2017-05-10    5.032136\n",
       "2017-05-11    5.036628\n",
       "2017-05-12    5.050497\n",
       "2017-05-15    5.047610\n",
       "                ...   \n",
       "2017-07-21    5.012434\n",
       "2017-07-24    5.024472\n",
       "2017-07-25    5.028737\n",
       "2017-07-26    5.033440\n",
       "2017-07-27    5.014362\n",
       "2017-07-28    5.007296\n",
       "2017-07-31    5.002133\n",
       "2017-08-01    5.010969\n",
       "2017-08-02    5.057137\n",
       "2017-08-03    5.047096\n",
       "2017-08-04    5.052353\n",
       "2017-08-07    5.067709\n",
       "2017-08-08    5.075674\n",
       "2017-08-09    5.081777\n",
       "2017-08-10    5.045488\n",
       "2017-08-11    5.059298\n",
       "2017-08-14    5.074236\n",
       "2017-08-15    5.085124\n",
       "2017-08-16    5.081094\n",
       "2017-08-17    5.061772\n",
       "2017-08-18    5.059425\n",
       "2017-08-21    5.057582\n",
       "2017-08-22    5.073798\n",
       "2017-08-23    5.075049\n",
       "2017-08-24    5.070915\n",
       "2017-08-25    5.074298\n",
       "2017-08-28    5.084319\n",
       "2017-08-29    5.093566\n",
       "2017-08-30    5.095895\n",
       "2017-08-31    5.099744\n",
       "Name: AAPL_LOG, Length: 106, dtype: float64"
      ]
     },
     "execution_count": 114,
     "metadata": {},
     "output_type": "execute_result"
    }
   ],
   "source": [
    "StockPriceAPPL[\"AAPL_LOG\"]"
   ]
  },
  {
   "cell_type": "markdown",
   "metadata": {},
   "source": [
    "#### stock data set contain the stock price data between 2017-04-03 to 2017-08-31\n"
   ]
  },
  {
   "cell_type": "code",
   "execution_count": 115,
   "metadata": {},
   "outputs": [
    {
     "data": {
      "text/plain": [
       "[<matplotlib.lines.Line2D at 0xbc88240>]"
      ]
     },
     "execution_count": 115,
     "metadata": {},
     "output_type": "execute_result"
    },
    {
     "data": {
      "image/png": "[encoded data removed]",
      "text/plain": [
       "<matplotlib.figure.Figure at 0xb8de390>"
      ]
     },
     "metadata": {},
     "output_type": "display_data"
    }
   ],
   "source": [
    "#plot stock AAL\n",
    "plt.figure(figsize=(12,8))\n",
    "#plt.style.use('fivethirtyeight')\n",
    "plt.plot(StockPriceAPPL[\"AAPL_LOG\"])\n"
   ]
  },
  {
   "cell_type": "markdown",
   "metadata": {},
   "source": [
    "#### Plotting Rolling Statistics and check for stationarity :\n",
    "#### The function will plot the moving mean or moving Standard Deviation. This is still visual method\n",
    "#### NOTE: moving mean and moving standard deviation — At any instant ‘t’, we take the mean/std of the last year which in this case is 12 months)\n"
   ]
  },
  {
   "cell_type": "code",
   "execution_count": 116,
   "metadata": {},
   "outputs": [
    {
     "data": {
      "image/png": "[encoded data removed]",
      "text/plain": [
       "<matplotlib.figure.Figure at 0xe371ef0>"
      ]
     },
     "metadata": {},
     "output_type": "display_data"
    }
   ],
   "source": [
    "rolmean = StockPriceAPPL.rolling(12).mean()\n",
    "rolstd = StockPriceAPPL.rolling(12).std()\n",
    "plt.figure(figsize=(12,8)) \n",
    "plt.plot( StockPriceAPPL, color='blue',label='Original')\n",
    "plt.plot(rolmean, color='red', label='Rolling Mean')\n",
    "plt.plot(rolstd, color='black', label = 'Rolling Std')\n",
    "plt.legend(loc='best')\n",
    "plt.title('Rolling Mean & Standard Deviation')\n",
    "plt.show()\n"
   ]
  },
  {
   "cell_type": "code",
   "execution_count": 117,
   "metadata": {},
   "outputs": [],
   "source": [
    "from statsmodels.tsa.stattools import adfuller\n",
    "# Store in a function for later use!\n",
    "def adf_check(time_series):\n",
    "    \"\"\"\n",
    "    Pass in a time series, returns ADF report\n",
    "    \"\"\"\n",
    "    result = adfuller(time_series)\n",
    "    print('Augmented Dickey-Fuller Test:')\n",
    "    labels = ['ADF Test Statistic','p-value','#Lags Used','Number of Observations Used']\n",
    "\n",
    "    for value,label in zip(result,labels):\n",
    "        print(label+' : '+str(value) )\n",
    "    \n",
    "    if result[1] <= 0.05:\n",
    "        print(\"strong evidence against the null hypothesis, reject the null hypothesis. Data has no unit root and is stationary\")\n",
    "    else:\n",
    "        print(\"weak evidence against null hypothesis, time series has a unit root, indicating it is non-stationary \")"
   ]
  },
  {
   "cell_type": "code",
   "execution_count": 118,
   "metadata": {},
   "outputs": [
    {
     "name": "stdout",
     "output_type": "stream",
     "text": [
      "Augmented Dickey-Fuller Test:\n",
      "ADF Test Statistic : -0.8416914217030158\n",
      "p-value : 0.806567826704039\n",
      "#Lags Used : 6\n",
      "Number of Observations Used : 99\n",
      "weak evidence against null hypothesis, time series has a unit root, indicating it is non-stationary \n"
     ]
    }
   ],
   "source": [
    "adf_check(StockPriceAPPL[\"AAPL_LOG\"])"
   ]
  },
  {
   "cell_type": "code",
   "execution_count": 119,
   "metadata": {},
   "outputs": [],
   "source": [
    "stockAPPL['AAPL First Diff'] = StockPriceAPPL[\"AAPL_LOG\"] - StockPriceAPPL[\"AAPL_LOG\"].shift(1)"
   ]
  },
  {
   "cell_type": "code",
   "execution_count": 120,
   "metadata": {},
   "outputs": [
    {
     "data": {
      "text/plain": [
       "DATE\n",
       "2017-04-03         NaN\n",
       "2017-04-04    0.007418\n",
       "2017-04-05   -0.005194\n",
       "2017-04-06   -0.002329\n",
       "2017-04-07   -0.002404\n",
       "Name: AAPL First Diff, dtype: float64"
      ]
     },
     "execution_count": 120,
     "metadata": {},
     "output_type": "execute_result"
    }
   ],
   "source": [
    "stockAPPL['AAPL First Diff'].head()"
   ]
  },
  {
   "cell_type": "code",
   "execution_count": 121,
   "metadata": {},
   "outputs": [
    {
     "name": "stdout",
     "output_type": "stream",
     "text": [
      "Augmented Dickey-Fuller Test:\n",
      "ADF Test Statistic : -4.45373318070998\n",
      "p-value : 0.00023816449471607439\n",
      "#Lags Used : 5\n",
      "Number of Observations Used : 99\n",
      "strong evidence against the null hypothesis, reject the null hypothesis. Data has no unit root and is stationary\n"
     ]
    }
   ],
   "source": [
    "adf_check(stockAPPL['AAPL First Diff'].dropna())"
   ]
  },
  {
   "cell_type": "code",
   "execution_count": 122,
   "metadata": {},
   "outputs": [
    {
     "data": {
      "text/plain": [
       "<matplotlib.axes._subplots.AxesSubplot at 0x8c41518>"
      ]
     },
     "execution_count": 122,
     "metadata": {},
     "output_type": "execute_result"
    },
    {
     "data": {
      "image/png": "[encoded data removed]",
      "text/plain": [
       "<matplotlib.figure.Figure at 0x8c42438>"
      ]
     },
     "metadata": {},
     "output_type": "display_data"
    }
   ],
   "source": [
    "stockAPPL['AAPL First Diff'].plot()"
   ]
  },
  {
   "cell_type": "code",
   "execution_count": 123,
   "metadata": {},
   "outputs": [
    {
     "data": {
      "image/png": "[encoded data removed]",
      "text/plain": [
       "<matplotlib.figure.Figure at 0x1a15ec50>"
      ]
     },
     "metadata": {},
     "output_type": "display_data"
    }
   ],
   "source": [
    "from statsmodels.graphics.tsaplots import plot_acf,plot_pacf\n",
    "\n",
    "fig_first = plot_acf(stockAPPL['AAPL First Diff'].dropna())"
   ]
  },
  {
   "cell_type": "code",
   "execution_count": 124,
   "metadata": {},
   "outputs": [
    {
     "data": {
      "image/png": "[encoded data removed]",
      "text/plain": [
       "<matplotlib.figure.Figure at 0xb6d4be0>"
      ]
     },
     "metadata": {},
     "output_type": "display_data"
    }
   ],
   "source": [
    "result = plot_pacf(stockAPPL['AAPL First Diff'].dropna())"
   ]
  },
  {
   "cell_type": "code",
   "execution_count": 125,
   "metadata": {},
   "outputs": [],
   "source": [
    "from statsmodels.tsa.arima_model import ARIMA"
   ]
  },
  {
   "cell_type": "code",
   "execution_count": 126,
   "metadata": {},
   "outputs": [
    {
     "name": "stdout",
     "output_type": "stream",
     "text": [
      "-634.1997021156949\n"
     ]
    }
   ],
   "source": [
    "model_arima = ARIMA(StockPriceAPPL[\"AAPL_LOG\"],order=(5,1,2))\n",
    "model_arima_fit = model_arima.fit()\n",
    "print(model_arima_fit.aic)"
   ]
  },
  {
   "cell_type": "code",
   "execution_count": 127,
   "metadata": {},
   "outputs": [
    {
     "name": "stdout",
     "output_type": "stream",
     "text": [
      "(0, 1, 0) -628.6576453107448\n",
      "(0, 1, 1) -626.6829727220231\n",
      "(0, 1, 2) -625.2223108837425\n",
      "(0, 1, 3) -628.2007750553805\n",
      "(1, 1, 0) -626.6790832023831\n",
      "(2, 1, 0) -625.2638292075284\n",
      "(2, 1, 1) -623.6929093403853\n",
      "(3, 1, 0) -625.4924854024525\n",
      "(3, 1, 1) -623.9642445007045\n",
      "(3, 1, 2) -633.525918839091\n",
      "(4, 1, 0) -625.5004249070396\n",
      "(4, 1, 1) -624.3098580420052\n",
      "(4, 1, 2) -625.2501641306924\n",
      "(4, 1, 3) -630.7028214255826\n",
      "(5, 1, 0) -627.118974009587\n",
      "(5, 1, 1) -632.4335587967435\n",
      "(5, 1, 2) -634.1997021156949\n",
      "(5, 1, 3) -632.3138192417715\n",
      "Best Model is : (5, 1, 2)\n"
     ]
    }
   ],
   "source": [
    "import warnings\n",
    "warnings.filterwarnings('ignore')\n",
    "ararray =stockAPPL['AAPL_LOG'].values\n",
    "pdq=[]\n",
    "aic=[]\n",
    "d=1\n",
    "for p in range(6):\n",
    "    for q in range(4):\n",
    "        \n",
    "        try:\n",
    "            model = ARIMA(ararray,order=(p,d,q)) \n",
    "            arima_results = model.fit()\n",
    "            aic.append(arima_results.aic)\n",
    "            pdq.append((p,d,q))\n",
    "            print((p,d,q),arima_results.aic)\n",
    "        except:\n",
    "            continue\n",
    "keys = pdq\n",
    "values = aic\n",
    "\n",
    "d = dict(zip(keys, values))\n",
    "minaic=min(d, key=d.get)\n",
    "\n",
    "for i in range(3):\n",
    "    p=minaic[0]\n",
    "    d=minaic[1]\n",
    "    q=minaic[2]\n",
    "print (\"Best Model is :\", (p,d,q))  "
   ]
  },
  {
   "cell_type": "code",
   "execution_count": 128,
   "metadata": {},
   "outputs": [
    {
     "data": {
      "text/html": [
       "<table class=\"simpletable\">\n",
       "<tr>\n",
       "        <td>Model:</td>              <td>ARIMA</td>              <td>BIC:</td>          <td>-610.3141</td>\n",
       "</tr>\n",
       "<tr>\n",
       "  <td>Dependent Variable:</td>    <td>D.AAPL_LOG</td>       <td>Log-Likelihood:</td>     <td>326.10</td>  \n",
       "</tr>\n",
       "<tr>\n",
       "         <td>Date:</td>        <td>2018-12-05 06:51</td>        <td>Scale:</td>          <td>1.0000</td>  \n",
       "</tr>\n",
       "<tr>\n",
       "   <td>No. Observations:</td>         <td>105</td>              <td>Method:</td>         <td>css-mle</td> \n",
       "</tr>\n",
       "<tr>\n",
       "       <td>Df Model:</td>              <td>8</td>               <td>Sample:</td>       <td>04-04-2017</td>\n",
       "</tr>\n",
       "<tr>\n",
       "     <td>Df Residuals:</td>           <td>97</td>                  <td></td>           <td>08-31-2017</td>\n",
       "</tr>\n",
       "<tr>\n",
       "      <td>Converged:</td>           <td>0.0000</td>      <td>S.D. of innovations:</td>    <td>0.011</td>  \n",
       "</tr>\n",
       "<tr>\n",
       "         <td>AIC:</td>             <td>-634.1997</td>            <td>HQIC:</td>         <td>-624.521</td> \n",
       "</tr>\n",
       "</table>\n",
       "<table class=\"simpletable\">\n",
       "<tr>\n",
       "          <td></td>          <th>Coef.</th>  <th>Std.Err.</th>    <th>t</th>     <th>P>|t|</th> <th>[0.025</th>  <th>0.975]</th> \n",
       "</tr>\n",
       "<tr>\n",
       "  <th>const</th>            <td>0.0013</td>   <td>0.0011</td>  <td>1.1747</td>  <td>0.2430</td> <td>-0.0009</td> <td>0.0034</td> \n",
       "</tr>\n",
       "<tr>\n",
       "  <th>ar.L1.D.AAPL_LOG</th> <td>-0.9302</td>  <td>0.1732</td>  <td>-5.3722</td> <td>0.0000</td> <td>-1.2696</td> <td>-0.5909</td>\n",
       "</tr>\n",
       "<tr>\n",
       "  <th>ar.L2.D.AAPL_LOG</th> <td>-0.6032</td>  <td>0.1986</td>  <td>-3.0373</td> <td>0.0031</td> <td>-0.9925</td> <td>-0.2140</td>\n",
       "</tr>\n",
       "<tr>\n",
       "  <th>ar.L3.D.AAPL_LOG</th> <td>-0.2006</td>  <td>0.1426</td>  <td>-1.4065</td> <td>0.1628</td> <td>-0.4800</td> <td>0.0789</td> \n",
       "</tr>\n",
       "<tr>\n",
       "  <th>ar.L4.D.AAPL_LOG</th> <td>-0.0247</td>  <td>0.1487</td>  <td>-0.1662</td> <td>0.8683</td> <td>-0.3161</td> <td>0.2667</td> \n",
       "</tr>\n",
       "<tr>\n",
       "  <th>ar.L5.D.AAPL_LOG</th> <td>0.2149</td>   <td>0.1145</td>  <td>1.8768</td>  <td>0.0635</td> <td>-0.0095</td> <td>0.4394</td> \n",
       "</tr>\n",
       "<tr>\n",
       "  <th>ma.L1.D.AAPL_LOG</th> <td>0.9967</td>   <td>0.1629</td>  <td>6.1192</td>  <td>0.0000</td> <td>0.6775</td>  <td>1.3160</td> \n",
       "</tr>\n",
       "<tr>\n",
       "  <th>ma.L2.D.AAPL_LOG</th> <td>0.6629</td>   <td>0.1647</td>  <td>4.0254</td>  <td>0.0001</td> <td>0.3401</td>  <td>0.9856</td> \n",
       "</tr>\n",
       "</table>\n",
       "<table class=\"simpletable\">\n",
       "<tr>\n",
       "    <td></td>    <th>Real</th>   <th>Imaginary</th> <th>Modulus</th> <th>Frequency</th>\n",
       "</tr>\n",
       "<tr>\n",
       "  <th>AR.1</th> <td>-0.9772</td>  <td>-0.6330</td>  <td>1.1643</td>   <td>-0.4085</td> \n",
       "</tr>\n",
       "<tr>\n",
       "  <th>AR.2</th> <td>-0.9772</td>  <td>0.6330</td>   <td>1.1643</td>   <td>0.4085</td>  \n",
       "</tr>\n",
       "<tr>\n",
       "  <th>AR.3</th> <td>0.0170</td>   <td>-1.2985</td>  <td>1.2986</td>   <td>-0.2479</td> \n",
       "</tr>\n",
       "<tr>\n",
       "  <th>AR.4</th> <td>0.0170</td>   <td>1.2985</td>   <td>1.2986</td>   <td>0.2479</td>  \n",
       "</tr>\n",
       "<tr>\n",
       "  <th>AR.5</th> <td>2.0354</td>   <td>-0.0000</td>  <td>2.0354</td>   <td>-0.0000</td> \n",
       "</tr>\n",
       "<tr>\n",
       "  <th>MA.1</th> <td>-0.7518</td>  <td>-0.9713</td>  <td>1.2282</td>   <td>-0.3548</td> \n",
       "</tr>\n",
       "<tr>\n",
       "  <th>MA.2</th> <td>-0.7518</td>  <td>0.9713</td>   <td>1.2282</td>   <td>0.3548</td>  \n",
       "</tr>\n",
       "</table>"
      ],
      "text/plain": [
       "<class 'statsmodels.iolib.summary2.Summary'>\n",
       "\"\"\"\n",
       "                           Results: ARIMA\n",
       "====================================================================\n",
       "Model:              ARIMA            BIC:                 -610.3141 \n",
       "Dependent Variable: D.AAPL_LOG       Log-Likelihood:      326.10    \n",
       "Date:               2018-12-05 06:51 Scale:               1.0000    \n",
       "No. Observations:   105              Method:              css-mle   \n",
       "Df Model:           8                Sample:              04-04-2017\n",
       "Df Residuals:       97                                    08-31-2017\n",
       "Converged:          0.0000           S.D. of innovations: 0.011     \n",
       "AIC:                -634.1997        HQIC:                -624.521  \n",
       "--------------------------------------------------------------------\n",
       "                      Coef.  Std.Err.    t    P>|t|   [0.025  0.975]\n",
       "--------------------------------------------------------------------\n",
       "const                 0.0013   0.0011  1.1747 0.2430 -0.0009  0.0034\n",
       "ar.L1.D.AAPL_LOG     -0.9302   0.1732 -5.3722 0.0000 -1.2696 -0.5909\n",
       "ar.L2.D.AAPL_LOG     -0.6032   0.1986 -3.0373 0.0031 -0.9925 -0.2140\n",
       "ar.L3.D.AAPL_LOG     -0.2006   0.1426 -1.4065 0.1628 -0.4800  0.0789\n",
       "ar.L4.D.AAPL_LOG     -0.0247   0.1487 -0.1662 0.8683 -0.3161  0.2667\n",
       "ar.L5.D.AAPL_LOG      0.2149   0.1145  1.8768 0.0635 -0.0095  0.4394\n",
       "ma.L1.D.AAPL_LOG      0.9967   0.1629  6.1192 0.0000  0.6775  1.3160\n",
       "ma.L2.D.AAPL_LOG      0.6629   0.1647  4.0254 0.0001  0.3401  0.9856\n",
       "-----------------------------------------------------------------------------\n",
       "                 Real           Imaginary          Modulus          Frequency\n",
       "-----------------------------------------------------------------------------\n",
       "AR.1           -0.9772            -0.6330           1.1643            -0.4085\n",
       "AR.2           -0.9772             0.6330           1.1643             0.4085\n",
       "AR.3            0.0170            -1.2985           1.2986            -0.2479\n",
       "AR.4            0.0170             1.2985           1.2986             0.2479\n",
       "AR.5            2.0354            -0.0000           2.0354            -0.0000\n",
       "MA.1           -0.7518            -0.9713           1.2282            -0.3548\n",
       "MA.2           -0.7518             0.9713           1.2282             0.3548\n",
       "====================================================================\n",
       "\n",
       "\"\"\""
      ]
     },
     "execution_count": 128,
     "metadata": {},
     "output_type": "execute_result"
    }
   ],
   "source": [
    "model_arima_fit.summary2()"
   ]
  },
  {
   "cell_type": "code",
   "execution_count": 129,
   "metadata": {},
   "outputs": [
    {
     "data": {
      "text/plain": [
       "(106,)"
      ]
     },
     "execution_count": 129,
     "metadata": {},
     "output_type": "execute_result"
    }
   ],
   "source": [
    "StockPriceAPPL[\"AAPL_LOG\"].shape"
   ]
  },
  {
   "cell_type": "code",
   "execution_count": 130,
   "metadata": {},
   "outputs": [
    {
     "data": {
      "text/plain": [
       "(array([5.10301932, 5.10445959, 5.10558515, 5.10670101, 5.10872461,\n",
       "        5.10989464, 5.11092654, 5.11235239, 5.11364176, 5.11506434]),\n",
       " array([0.01078259, 0.01576404, 0.01949862, 0.02143499, 0.02404737,\n",
       "        0.02728835, 0.02924072, 0.03130662, 0.03318073, 0.03515702]),\n",
       " array([[5.08188584, 5.1241528 ],\n",
       "        [5.07356264, 5.13535654],\n",
       "        [5.06736855, 5.14380175],\n",
       "        [5.0646892 , 5.14871281],\n",
       "        [5.06159263, 5.15585659],\n",
       "        [5.05641046, 5.16337882],\n",
       "        [5.05361578, 5.1682373 ],\n",
       "        [5.05099254, 5.17371225],\n",
       "        [5.04860873, 5.1786748 ],\n",
       "        [5.04615785, 5.18397083]]))"
      ]
     },
     "execution_count": 130,
     "metadata": {},
     "output_type": "execute_result"
    }
   ],
   "source": [
    "model_arima_fit.forecast(10)"
   ]
  },
  {
   "cell_type": "code",
   "execution_count": 131,
   "metadata": {},
   "outputs": [
    {
     "name": "stdout",
     "output_type": "stream",
     "text": [
      "Help on method forecast in module statsmodels.tsa.arima_model:\n",
      "\n",
      "forecast(steps=1, exog=None, alpha=0.05) method of statsmodels.tsa.arima_model.ARIMAResults instance\n",
      "    Out-of-sample forecasts\n",
      "    \n",
      "    Parameters\n",
      "    ----------\n",
      "    steps : int\n",
      "        The number of out of sample forecasts from the end of the\n",
      "        sample.\n",
      "    exog : array\n",
      "        If the model is an ARIMAX, you must provide out of sample\n",
      "        values for the exogenous variables. This should not include\n",
      "        the constant.\n",
      "    alpha : float\n",
      "        The confidence intervals for the forecasts are (1 - alpha) %\n",
      "    \n",
      "    Returns\n",
      "    -------\n",
      "    forecast : array\n",
      "        Array of out of sample forecasts\n",
      "    stderr : array\n",
      "        Array of the standard error of the forecasts.\n",
      "    conf_int : array\n",
      "        2d array of the confidence interval for the forecast\n",
      "    \n",
      "    Notes\n",
      "    -----\n",
      "    Prediction is done in the levels of the original endogenous variable.\n",
      "    If you would like prediction of differences in levels use `predict`.\n",
      "\n"
     ]
    }
   ],
   "source": [
    "help(model_arima_fit.forecast)"
   ]
  },
  {
   "cell_type": "code",
   "execution_count": 132,
   "metadata": {},
   "outputs": [],
   "source": [
    "# The output generated has three arrays:\n",
    "#1. forecast : array\n",
    "    #    Array of out of sample forecasts\n",
    "#2.    stderr : array\n",
    "   #     Array of the standard error of the forecasts.\n",
    "#3.    conf_int : array\n",
    "   #     2d array of the confidence interval for the forecast"
   ]
  },
  {
   "cell_type": "code",
   "execution_count": 133,
   "metadata": {},
   "outputs": [
    {
     "data": {
      "text/plain": [
       "array([5.10301932, 5.10445959, 5.10558515, 5.10670101, 5.10872461,\n",
       "       5.10989464, 5.11092654, 5.11235239, 5.11364176, 5.11506434,\n",
       "       5.11618629, 5.11749549, 5.11887318, 5.12010187, 5.12142635,\n",
       "       5.12266863])"
      ]
     },
     "execution_count": 133,
     "metadata": {},
     "output_type": "execute_result"
    }
   ],
   "source": [
    "model_arima_fit.forecast(16)[0]"
   ]
  },
  {
   "cell_type": "markdown",
   "metadata": {},
   "source": [
    "### Now predict the ADP"
   ]
  },
  {
   "cell_type": "code",
   "execution_count": 173,
   "metadata": {},
   "outputs": [],
   "source": [
    "#take the apple price and forecase\n",
    "stockADP=pd.DataFrame(StockPriceData.ADP)"
   ]
  },
  {
   "cell_type": "code",
   "execution_count": 174,
   "metadata": {},
   "outputs": [
    {
     "data": {
      "text/html": [
       "<div>\n",
       "<style scoped>\n",
       "    .dataframe tbody tr th:only-of-type {\n",
       "        vertical-align: middle;\n",
       "    }\n",
       "\n",
       "    .dataframe tbody tr th {\n",
       "        vertical-align: top;\n",
       "    }\n",
       "\n",
       "    .dataframe thead th {\n",
       "        text-align: right;\n",
       "    }\n",
       "</style>\n",
       "<table border=\"1\" class=\"dataframe\">\n",
       "  <thead>\n",
       "    <tr style=\"text-align: right;\">\n",
       "      <th></th>\n",
       "      <th>ADP</th>\n",
       "    </tr>\n",
       "    <tr>\n",
       "      <th>DATE</th>\n",
       "      <th></th>\n",
       "    </tr>\n",
       "  </thead>\n",
       "  <tbody>\n",
       "    <tr>\n",
       "      <th>2017-04-03</th>\n",
       "      <td>101.27</td>\n",
       "    </tr>\n",
       "    <tr>\n",
       "      <th>2017-04-04</th>\n",
       "      <td>101.45</td>\n",
       "    </tr>\n",
       "    <tr>\n",
       "      <th>2017-04-05</th>\n",
       "      <td>101.93</td>\n",
       "    </tr>\n",
       "    <tr>\n",
       "      <th>2017-04-06</th>\n",
       "      <td>101.75</td>\n",
       "    </tr>\n",
       "    <tr>\n",
       "      <th>2017-04-07</th>\n",
       "      <td>102.19</td>\n",
       "    </tr>\n",
       "  </tbody>\n",
       "</table>\n",
       "</div>"
      ],
      "text/plain": [
       "               ADP\n",
       "DATE              \n",
       "2017-04-03  101.27\n",
       "2017-04-04  101.45\n",
       "2017-04-05  101.93\n",
       "2017-04-06  101.75\n",
       "2017-04-07  102.19"
      ]
     },
     "execution_count": 174,
     "metadata": {},
     "output_type": "execute_result"
    }
   ],
   "source": [
    "stockADP.head()"
   ]
  },
  {
   "cell_type": "code",
   "execution_count": 175,
   "metadata": {},
   "outputs": [
    {
     "data": {
      "text/html": [
       "<div>\n",
       "<style scoped>\n",
       "    .dataframe tbody tr th:only-of-type {\n",
       "        vertical-align: middle;\n",
       "    }\n",
       "\n",
       "    .dataframe tbody tr th {\n",
       "        vertical-align: top;\n",
       "    }\n",
       "\n",
       "    .dataframe thead th {\n",
       "        text-align: right;\n",
       "    }\n",
       "</style>\n",
       "<table border=\"1\" class=\"dataframe\">\n",
       "  <thead>\n",
       "    <tr style=\"text-align: right;\">\n",
       "      <th></th>\n",
       "      <th>ADP</th>\n",
       "    </tr>\n",
       "    <tr>\n",
       "      <th>DATE</th>\n",
       "      <th></th>\n",
       "    </tr>\n",
       "  </thead>\n",
       "  <tbody>\n",
       "    <tr>\n",
       "      <th>2017-08-25</th>\n",
       "      <td>104.59</td>\n",
       "    </tr>\n",
       "    <tr>\n",
       "      <th>2017-08-28</th>\n",
       "      <td>104.76</td>\n",
       "    </tr>\n",
       "    <tr>\n",
       "      <th>2017-08-29</th>\n",
       "      <td>105.13</td>\n",
       "    </tr>\n",
       "    <tr>\n",
       "      <th>2017-08-30</th>\n",
       "      <td>105.93</td>\n",
       "    </tr>\n",
       "    <tr>\n",
       "      <th>2017-08-31</th>\n",
       "      <td>106.47</td>\n",
       "    </tr>\n",
       "  </tbody>\n",
       "</table>\n",
       "</div>"
      ],
      "text/plain": [
       "               ADP\n",
       "DATE              \n",
       "2017-08-25  104.59\n",
       "2017-08-28  104.76\n",
       "2017-08-29  105.13\n",
       "2017-08-30  105.93\n",
       "2017-08-31  106.47"
      ]
     },
     "execution_count": 175,
     "metadata": {},
     "output_type": "execute_result"
    }
   ],
   "source": [
    "stockADP.tail()"
   ]
  },
  {
   "cell_type": "code",
   "execution_count": 176,
   "metadata": {},
   "outputs": [
    {
     "data": {
      "text/html": [
       "<div>\n",
       "<style scoped>\n",
       "    .dataframe tbody tr th:only-of-type {\n",
       "        vertical-align: middle;\n",
       "    }\n",
       "\n",
       "    .dataframe tbody tr th {\n",
       "        vertical-align: top;\n",
       "    }\n",
       "\n",
       "    .dataframe thead th {\n",
       "        text-align: right;\n",
       "    }\n",
       "</style>\n",
       "<table border=\"1\" class=\"dataframe\">\n",
       "  <thead>\n",
       "    <tr style=\"text-align: right;\">\n",
       "      <th></th>\n",
       "      <th>count</th>\n",
       "      <th>mean</th>\n",
       "      <th>std</th>\n",
       "      <th>min</th>\n",
       "      <th>25%</th>\n",
       "      <th>50%</th>\n",
       "      <th>75%</th>\n",
       "      <th>max</th>\n",
       "    </tr>\n",
       "  </thead>\n",
       "  <tbody>\n",
       "    <tr>\n",
       "      <th>ADP</th>\n",
       "      <td>106.0</td>\n",
       "      <td>103.468726</td>\n",
       "      <td>4.424074</td>\n",
       "      <td>96.46</td>\n",
       "      <td>101.31625</td>\n",
       "      <td>102.44</td>\n",
       "      <td>104.5875</td>\n",
       "      <td>118.91</td>\n",
       "    </tr>\n",
       "  </tbody>\n",
       "</table>\n",
       "</div>"
      ],
      "text/plain": [
       "     count        mean       std    min        25%     50%       75%     max\n",
       "ADP  106.0  103.468726  4.424074  96.46  101.31625  102.44  104.5875  118.91"
      ]
     },
     "execution_count": 176,
     "metadata": {},
     "output_type": "execute_result"
    }
   ],
   "source": [
    "stockADP.describe().transpose()"
   ]
  },
  {
   "cell_type": "code",
   "execution_count": 177,
   "metadata": {},
   "outputs": [],
   "source": [
    "#Creating a column 'ADP_LOG' with the log values of 'NASDAQ.ADP' column data\n",
    "stockADP[\"ADP_LOG\"] =stockADP['ADP'].apply(lambda x:np.log(x))"
   ]
  },
  {
   "cell_type": "code",
   "execution_count": 178,
   "metadata": {},
   "outputs": [],
   "source": [
    "StockPriceADP=stockADP.drop('ADP',axis=1)\n"
   ]
  },
  {
   "cell_type": "code",
   "execution_count": 179,
   "metadata": {},
   "outputs": [
    {
     "data": {
      "text/plain": [
       "DATE\n",
       "2017-04-03    4.617790\n",
       "2017-04-04    4.619566\n",
       "2017-04-05    4.624286\n",
       "2017-04-06    4.622519\n",
       "2017-04-07    4.626834\n",
       "2017-04-10    4.626344\n",
       "2017-04-11    4.625855\n",
       "2017-04-12    4.624482\n",
       "2017-04-13    4.617691\n",
       "2017-04-17    4.623599\n",
       "2017-04-18    4.624286\n",
       "2017-04-19    4.625659\n",
       "2017-04-20    4.635117\n",
       "2017-04-21    4.631715\n",
       "2017-04-24    4.645736\n",
       "2017-04-25    4.654056\n",
       "2017-04-26    4.652626\n",
       "2017-04-27    4.655483\n",
       "2017-04-28    4.649091\n",
       "2017-05-01    4.644102\n",
       "2017-05-02    4.644487\n",
       "2017-05-03    4.579955\n",
       "2017-05-04    4.596129\n",
       "2017-05-05    4.598045\n",
       "2017-05-08    4.571613\n",
       "2017-05-09    4.575535\n",
       "2017-05-10    4.570889\n",
       "2017-05-11    4.569128\n",
       "2017-05-12    4.576462\n",
       "2017-05-15    4.589549\n",
       "                ...   \n",
       "2017-07-21    4.649952\n",
       "2017-07-24    4.639958\n",
       "2017-07-25    4.636475\n",
       "2017-07-26    4.663250\n",
       "2017-07-27    4.750395\n",
       "2017-07-28    4.765417\n",
       "2017-07-31    4.778367\n",
       "2017-08-01    4.760292\n",
       "2017-08-02    4.747104\n",
       "2017-08-03    4.716443\n",
       "2017-08-04    4.713038\n",
       "2017-08-07    4.720016\n",
       "2017-08-08    4.686842\n",
       "2017-08-09    4.697385\n",
       "2017-08-10    4.690430\n",
       "2017-08-11    4.689603\n",
       "2017-08-14    4.697658\n",
       "2017-08-15    4.714742\n",
       "2017-08-16    4.710431\n",
       "2017-08-17    4.650908\n",
       "2017-08-18    4.648325\n",
       "2017-08-21    4.633660\n",
       "2017-08-22    4.641695\n",
       "2017-08-23    4.639185\n",
       "2017-08-24    4.650048\n",
       "2017-08-25    4.650048\n",
       "2017-08-28    4.651672\n",
       "2017-08-29    4.655198\n",
       "2017-08-30    4.662778\n",
       "2017-08-31    4.667863\n",
       "Name: ADP_LOG, Length: 106, dtype: float64"
      ]
     },
     "execution_count": 179,
     "metadata": {},
     "output_type": "execute_result"
    }
   ],
   "source": [
    "StockPriceADP[\"ADP_LOG\"]"
   ]
  },
  {
   "cell_type": "code",
   "execution_count": 180,
   "metadata": {},
   "outputs": [
    {
     "data": {
      "text/plain": [
       "DATE\n",
       "2017-04-03    4.617790\n",
       "2017-04-04    4.619566\n",
       "2017-04-05    4.624286\n",
       "2017-04-06    4.622519\n",
       "2017-04-07    4.626834\n",
       "Name: ADP_LOG, dtype: float64"
      ]
     },
     "execution_count": 180,
     "metadata": {},
     "output_type": "execute_result"
    }
   ],
   "source": [
    "StockPriceADP[\"ADP_LOG\"].head()"
   ]
  },
  {
   "cell_type": "code",
   "execution_count": 181,
   "metadata": {},
   "outputs": [
    {
     "data": {
      "text/plain": [
       "[<matplotlib.lines.Line2D at 0x1ba28ba8>]"
      ]
     },
     "execution_count": 181,
     "metadata": {},
     "output_type": "execute_result"
    },
    {
     "data": {
      "image/png": "[encoded data removed]",
      "text/plain": [
       "<matplotlib.figure.Figure at 0x1ba09ac8>"
      ]
     },
     "metadata": {},
     "output_type": "display_data"
    }
   ],
   "source": [
    "#plot stock AAL\n",
    "plt.figure(figsize=(12,8))\n",
    "#plt.style.use('fivethirtyeight')\n",
    "plt.plot(StockPriceADP[\"ADP_LOG\"])\n"
   ]
  },
  {
   "cell_type": "code",
   "execution_count": 182,
   "metadata": {},
   "outputs": [
    {
     "data": {
      "image/png": "[encoded data removed]",
      "text/plain": [
       "<matplotlib.figure.Figure at 0x8c38048>"
      ]
     },
     "metadata": {},
     "output_type": "display_data"
    }
   ],
   "source": [
    "rolmean = StockPriceADP.rolling(12).mean()\n",
    "rolstd = StockPriceADP.rolling(12).std()\n",
    "plt.figure(figsize=(12,8)) \n",
    "plt.plot( StockPriceADP, color='blue',label='Original')\n",
    "plt.plot(rolmean, color='red', label='Rolling Mean')\n",
    "plt.plot(rolstd, color='black', label = 'Rolling Std')\n",
    "plt.legend(loc='best')\n",
    "plt.title('Rolling Mean & Standard Deviation')\n",
    "plt.show()"
   ]
  },
  {
   "cell_type": "code",
   "execution_count": 183,
   "metadata": {},
   "outputs": [
    {
     "name": "stdout",
     "output_type": "stream",
     "text": [
      "Augmented Dickey-Fuller Test:\n",
      "ADF Test Statistic : -1.9274461474815063\n",
      "p-value : 0.31926175042941074\n",
      "#Lags Used : 0\n",
      "Number of Observations Used : 105\n",
      "weak evidence against null hypothesis, time series has a unit root, indicating it is non-stationary \n"
     ]
    }
   ],
   "source": [
    "\n",
    "adf_check(StockPriceADP[\"ADP_LOG\"])"
   ]
  },
  {
   "cell_type": "code",
   "execution_count": 184,
   "metadata": {},
   "outputs": [],
   "source": [
    "stockADP['ADP First Diff'] = StockPriceADP[\"ADP_LOG\"] - StockPriceADP[\"ADP_LOG\"].shift(1)\n"
   ]
  },
  {
   "cell_type": "code",
   "execution_count": 185,
   "metadata": {},
   "outputs": [
    {
     "data": {
      "text/plain": [
       "DATE\n",
       "2017-04-03         NaN\n",
       "2017-04-04    0.001776\n",
       "2017-04-05    0.004720\n",
       "2017-04-06   -0.001767\n",
       "2017-04-07    0.004315\n",
       "Name: ADP First Diff, dtype: float64"
      ]
     },
     "execution_count": 185,
     "metadata": {},
     "output_type": "execute_result"
    }
   ],
   "source": [
    "\n",
    "stockADP['ADP First Diff'].head()"
   ]
  },
  {
   "cell_type": "code",
   "execution_count": 186,
   "metadata": {},
   "outputs": [
    {
     "name": "stdout",
     "output_type": "stream",
     "text": [
      "Augmented Dickey-Fuller Test:\n",
      "ADF Test Statistic : -9.357064875158601\n",
      "p-value : 8.006428135800317e-16\n",
      "#Lags Used : 0\n",
      "Number of Observations Used : 104\n",
      "strong evidence against the null hypothesis, reject the null hypothesis. Data has no unit root and is stationary\n"
     ]
    }
   ],
   "source": [
    "adf_check(stockADP['ADP First Diff'].dropna())"
   ]
  },
  {
   "cell_type": "code",
   "execution_count": 187,
   "metadata": {},
   "outputs": [
    {
     "data": {
      "text/plain": [
       "<matplotlib.axes._subplots.AxesSubplot at 0x1ba1c128>"
      ]
     },
     "execution_count": 187,
     "metadata": {},
     "output_type": "execute_result"
    },
    {
     "data": {
      "image/png": "[encoded data removed]",
      "text/plain": [
       "<matplotlib.figure.Figure at 0x1b9fddd8>"
      ]
     },
     "metadata": {},
     "output_type": "display_data"
    }
   ],
   "source": [
    "stockADP['ADP First Diff'].plot()"
   ]
  },
  {
   "cell_type": "code",
   "execution_count": 188,
   "metadata": {},
   "outputs": [
    {
     "data": {
      "image/png": "[encoded data removed]",
      "text/plain": [
       "<matplotlib.figure.Figure at 0x1b9c7d68>"
      ]
     },
     "metadata": {},
     "output_type": "display_data"
    }
   ],
   "source": [
    "from statsmodels.graphics.tsaplots import plot_acf,plot_pacf\n",
    "\n",
    "fig_first = plot_acf(stockADP['ADP First Diff'].dropna())"
   ]
  },
  {
   "cell_type": "code",
   "execution_count": 189,
   "metadata": {},
   "outputs": [
    {
     "data": {
      "image/png": "[encoded data removed]",
      "text/plain": [
       "<matplotlib.figure.Figure at 0x1be11be0>"
      ]
     },
     "metadata": {},
     "output_type": "display_data"
    }
   ],
   "source": [
    "result = plot_pacf(stockADP['ADP First Diff'].dropna())"
   ]
  },
  {
   "cell_type": "code",
   "execution_count": 190,
   "metadata": {},
   "outputs": [
    {
     "name": "stdout",
     "output_type": "stream",
     "text": [
      "-560.4969429467492\n"
     ]
    }
   ],
   "source": [
    "model_arima = ARIMA(StockPriceADP[\"ADP_LOG\"],order=(5,1,2))\n",
    "model_arima_fit = model_arima.fit()\n",
    "print(model_arima_fit.aic)"
   ]
  },
  {
   "cell_type": "code",
   "execution_count": 192,
   "metadata": {},
   "outputs": [
    {
     "data": {
      "text/html": [
       "<table class=\"simpletable\">\n",
       "<tr>\n",
       "        <td>Model:</td>              <td>ARIMA</td>              <td>BIC:</td>          <td>-536.6113</td>\n",
       "</tr>\n",
       "<tr>\n",
       "  <td>Dependent Variable:</td>     <td>D.ADP_LOG</td>       <td>Log-Likelihood:</td>     <td>289.25</td>  \n",
       "</tr>\n",
       "<tr>\n",
       "         <td>Date:</td>        <td>2018-12-05 07:15</td>        <td>Scale:</td>          <td>1.0000</td>  \n",
       "</tr>\n",
       "<tr>\n",
       "   <td>No. Observations:</td>         <td>105</td>              <td>Method:</td>         <td>css-mle</td> \n",
       "</tr>\n",
       "<tr>\n",
       "       <td>Df Model:</td>              <td>8</td>               <td>Sample:</td>       <td>04-04-2017</td>\n",
       "</tr>\n",
       "<tr>\n",
       "     <td>Df Residuals:</td>           <td>97</td>                  <td></td>           <td>08-31-2017</td>\n",
       "</tr>\n",
       "<tr>\n",
       "      <td>Converged:</td>           <td>0.0000</td>      <td>S.D. of innovations:</td>    <td>0.015</td>  \n",
       "</tr>\n",
       "<tr>\n",
       "         <td>AIC:</td>             <td>-560.4969</td>            <td>HQIC:</td>         <td>-550.818</td> \n",
       "</tr>\n",
       "</table>\n",
       "<table class=\"simpletable\">\n",
       "<tr>\n",
       "         <td></td>          <th>Coef.</th>  <th>Std.Err.</th>    <th>t</th>     <th>P>|t|</th> <th>[0.025</th>  <th>0.975]</th> \n",
       "</tr>\n",
       "<tr>\n",
       "  <th>const</th>           <td>0.0004</td>   <td>0.0017</td>  <td>0.2429</td>  <td>0.8086</td> <td>-0.0028</td> <td>0.0036</td> \n",
       "</tr>\n",
       "<tr>\n",
       "  <th>ar.L1.D.ADP_LOG</th> <td>-0.2682</td>  <td>0.1055</td>  <td>-2.5415</td> <td>0.0126</td> <td>-0.4750</td> <td>-0.0614</td>\n",
       "</tr>\n",
       "<tr>\n",
       "  <th>ar.L2.D.ADP_LOG</th> <td>-0.8625</td>  <td>0.1009</td>  <td>-8.5509</td> <td>0.0000</td> <td>-1.0602</td> <td>-0.6648</td>\n",
       "</tr>\n",
       "<tr>\n",
       "  <th>ar.L3.D.ADP_LOG</th> <td>0.0651</td>   <td>0.1299</td>  <td>0.5013</td>  <td>0.6173</td> <td>-0.1895</td> <td>0.3197</td> \n",
       "</tr>\n",
       "<tr>\n",
       "  <th>ar.L4.D.ADP_LOG</th> <td>0.0459</td>   <td>0.1028</td>  <td>0.4464</td>  <td>0.6563</td> <td>-0.1556</td> <td>0.2474</td> \n",
       "</tr>\n",
       "<tr>\n",
       "  <th>ar.L5.D.ADP_LOG</th> <td>-0.0854</td>  <td>0.0977</td>  <td>-0.8738</td> <td>0.3844</td> <td>-0.2769</td> <td>0.1061</td> \n",
       "</tr>\n",
       "<tr>\n",
       "  <th>ma.L1.D.ADP_LOG</th> <td>0.3552</td>   <td>0.0474</td>  <td>7.4928</td>  <td>0.0000</td> <td>0.2623</td>  <td>0.4481</td> \n",
       "</tr>\n",
       "<tr>\n",
       "  <th>ma.L2.D.ADP_LOG</th> <td>1.0000</td>   <td>0.0643</td>  <td>15.5411</td> <td>0.0000</td> <td>0.8739</td>  <td>1.1261</td> \n",
       "</tr>\n",
       "</table>\n",
       "<table class=\"simpletable\">\n",
       "<tr>\n",
       "    <td></td>    <th>Real</th>   <th>Imaginary</th> <th>Modulus</th> <th>Frequency</th>\n",
       "</tr>\n",
       "<tr>\n",
       "  <th>AR.1</th> <td>-0.1967</td>  <td>-0.9856</td>  <td>1.0050</td>   <td>-0.2814</td> \n",
       "</tr>\n",
       "<tr>\n",
       "  <th>AR.2</th> <td>-0.1967</td>  <td>0.9856</td>   <td>1.0050</td>   <td>0.2814</td>  \n",
       "</tr>\n",
       "<tr>\n",
       "  <th>AR.3</th> <td>-2.1728</td>  <td>-0.0000</td>  <td>2.1728</td>   <td>-0.5000</td> \n",
       "</tr>\n",
       "<tr>\n",
       "  <th>AR.4</th> <td>1.5519</td>   <td>-1.7114</td>  <td>2.3102</td>   <td>-0.1328</td> \n",
       "</tr>\n",
       "<tr>\n",
       "  <th>AR.5</th> <td>1.5519</td>   <td>1.7114</td>   <td>2.3102</td>   <td>0.1328</td>  \n",
       "</tr>\n",
       "<tr>\n",
       "  <th>MA.1</th> <td>-0.1776</td>  <td>-0.9841</td>  <td>1.0000</td>   <td>-0.2784</td> \n",
       "</tr>\n",
       "<tr>\n",
       "  <th>MA.2</th> <td>-0.1776</td>  <td>0.9841</td>   <td>1.0000</td>   <td>0.2784</td>  \n",
       "</tr>\n",
       "</table>"
      ],
      "text/plain": [
       "<class 'statsmodels.iolib.summary2.Summary'>\n",
       "\"\"\"\n",
       "                           Results: ARIMA\n",
       "====================================================================\n",
       "Model:              ARIMA            BIC:                 -536.6113 \n",
       "Dependent Variable: D.ADP_LOG        Log-Likelihood:      289.25    \n",
       "Date:               2018-12-05 07:15 Scale:               1.0000    \n",
       "No. Observations:   105              Method:              css-mle   \n",
       "Df Model:           8                Sample:              04-04-2017\n",
       "Df Residuals:       97                                    08-31-2017\n",
       "Converged:          0.0000           S.D. of innovations: 0.015     \n",
       "AIC:                -560.4969        HQIC:                -550.818  \n",
       "---------------------------------------------------------------------\n",
       "                  Coef.   Std.Err.     t     P>|t|    [0.025   0.975]\n",
       "---------------------------------------------------------------------\n",
       "const             0.0004    0.0017   0.2429  0.8086  -0.0028   0.0036\n",
       "ar.L1.D.ADP_LOG  -0.2682    0.1055  -2.5415  0.0126  -0.4750  -0.0614\n",
       "ar.L2.D.ADP_LOG  -0.8625    0.1009  -8.5509  0.0000  -1.0602  -0.6648\n",
       "ar.L3.D.ADP_LOG   0.0651    0.1299   0.5013  0.6173  -0.1895   0.3197\n",
       "ar.L4.D.ADP_LOG   0.0459    0.1028   0.4464  0.6563  -0.1556   0.2474\n",
       "ar.L5.D.ADP_LOG  -0.0854    0.0977  -0.8738  0.3844  -0.2769   0.1061\n",
       "ma.L1.D.ADP_LOG   0.3552    0.0474   7.4928  0.0000   0.2623   0.4481\n",
       "ma.L2.D.ADP_LOG   1.0000    0.0643  15.5411  0.0000   0.8739   1.1261\n",
       "-----------------------------------------------------------------------------\n",
       "                 Real           Imaginary          Modulus          Frequency\n",
       "-----------------------------------------------------------------------------\n",
       "AR.1           -0.1967            -0.9856           1.0050            -0.2814\n",
       "AR.2           -0.1967             0.9856           1.0050             0.2814\n",
       "AR.3           -2.1728            -0.0000           2.1728            -0.5000\n",
       "AR.4            1.5519            -1.7114           2.3102            -0.1328\n",
       "AR.5            1.5519             1.7114           2.3102             0.1328\n",
       "MA.1           -0.1776            -0.9841           1.0000            -0.2784\n",
       "MA.2           -0.1776             0.9841           1.0000             0.2784\n",
       "====================================================================\n",
       "\n",
       "\"\"\""
      ]
     },
     "execution_count": 192,
     "metadata": {},
     "output_type": "execute_result"
    }
   ],
   "source": [
    "model_arima_fit.summary2()"
   ]
  },
  {
   "cell_type": "code",
   "execution_count": 195,
   "metadata": {},
   "outputs": [
    {
     "data": {
      "text/plain": [
       "array([4.66478713, 4.66749005, 4.67064288, 4.66769862, 4.66621621,\n",
       "       4.67059159, 4.6712656 , 4.66765693, 4.6693581 , 4.67323209,\n",
       "       4.67099498, 4.66898784, 4.67294048, 4.67434508, 4.67084182,\n",
       "       4.67177262])"
      ]
     },
     "execution_count": 195,
     "metadata": {},
     "output_type": "execute_result"
    }
   ],
   "source": [
    "model_arima_fit.forecast(16)[0]"
   ]
  },
  {
   "cell_type": "code",
   "execution_count": 197,
   "metadata": {},
   "outputs": [],
   "source": [
    "#take the CBOE price and forecase\n",
    "stockCBOE=pd.DataFrame(StockPriceData.CBOE)"
   ]
  },
  {
   "cell_type": "code",
   "execution_count": 198,
   "metadata": {},
   "outputs": [
    {
     "data": {
      "text/html": [
       "<div>\n",
       "<style scoped>\n",
       "    .dataframe tbody tr th:only-of-type {\n",
       "        vertical-align: middle;\n",
       "    }\n",
       "\n",
       "    .dataframe tbody tr th {\n",
       "        vertical-align: top;\n",
       "    }\n",
       "\n",
       "    .dataframe thead th {\n",
       "        text-align: right;\n",
       "    }\n",
       "</style>\n",
       "<table border=\"1\" class=\"dataframe\">\n",
       "  <thead>\n",
       "    <tr style=\"text-align: right;\">\n",
       "      <th></th>\n",
       "      <th>CBOE</th>\n",
       "    </tr>\n",
       "    <tr>\n",
       "      <th>DATE</th>\n",
       "      <th></th>\n",
       "    </tr>\n",
       "  </thead>\n",
       "  <tbody>\n",
       "    <tr>\n",
       "      <th>2017-04-03</th>\n",
       "      <td>80.67</td>\n",
       "    </tr>\n",
       "    <tr>\n",
       "      <th>2017-04-04</th>\n",
       "      <td>80.89</td>\n",
       "    </tr>\n",
       "    <tr>\n",
       "      <th>2017-04-05</th>\n",
       "      <td>80.42</td>\n",
       "    </tr>\n",
       "    <tr>\n",
       "      <th>2017-04-06</th>\n",
       "      <td>80.32</td>\n",
       "    </tr>\n",
       "    <tr>\n",
       "      <th>2017-04-07</th>\n",
       "      <td>81.08</td>\n",
       "    </tr>\n",
       "  </tbody>\n",
       "</table>\n",
       "</div>"
      ],
      "text/plain": [
       "             CBOE\n",
       "DATE             \n",
       "2017-04-03  80.67\n",
       "2017-04-04  80.89\n",
       "2017-04-05  80.42\n",
       "2017-04-06  80.32\n",
       "2017-04-07  81.08"
      ]
     },
     "execution_count": 198,
     "metadata": {},
     "output_type": "execute_result"
    }
   ],
   "source": [
    "stockCBOE.head()"
   ]
  },
  {
   "cell_type": "code",
   "execution_count": 199,
   "metadata": {},
   "outputs": [
    {
     "data": {
      "text/html": [
       "<div>\n",
       "<style scoped>\n",
       "    .dataframe tbody tr th:only-of-type {\n",
       "        vertical-align: middle;\n",
       "    }\n",
       "\n",
       "    .dataframe tbody tr th {\n",
       "        vertical-align: top;\n",
       "    }\n",
       "\n",
       "    .dataframe thead th {\n",
       "        text-align: right;\n",
       "    }\n",
       "</style>\n",
       "<table border=\"1\" class=\"dataframe\">\n",
       "  <thead>\n",
       "    <tr style=\"text-align: right;\">\n",
       "      <th></th>\n",
       "      <th>CBOE</th>\n",
       "    </tr>\n",
       "    <tr>\n",
       "      <th>DATE</th>\n",
       "      <th></th>\n",
       "    </tr>\n",
       "  </thead>\n",
       "  <tbody>\n",
       "    <tr>\n",
       "      <th>2017-08-25</th>\n",
       "      <td>99.77</td>\n",
       "    </tr>\n",
       "    <tr>\n",
       "      <th>2017-08-28</th>\n",
       "      <td>100.15</td>\n",
       "    </tr>\n",
       "    <tr>\n",
       "      <th>2017-08-29</th>\n",
       "      <td>100.34</td>\n",
       "    </tr>\n",
       "    <tr>\n",
       "      <th>2017-08-30</th>\n",
       "      <td>100.27</td>\n",
       "    </tr>\n",
       "    <tr>\n",
       "      <th>2017-08-31</th>\n",
       "      <td>100.89</td>\n",
       "    </tr>\n",
       "  </tbody>\n",
       "</table>\n",
       "</div>"
      ],
      "text/plain": [
       "              CBOE\n",
       "DATE              \n",
       "2017-08-25   99.77\n",
       "2017-08-28  100.15\n",
       "2017-08-29  100.34\n",
       "2017-08-30  100.27\n",
       "2017-08-31  100.89"
      ]
     },
     "execution_count": 199,
     "metadata": {},
     "output_type": "execute_result"
    }
   ],
   "source": [
    "stockCBOE.tail()"
   ]
  },
  {
   "cell_type": "code",
   "execution_count": 200,
   "metadata": {},
   "outputs": [
    {
     "data": {
      "text/html": [
       "<div>\n",
       "<style scoped>\n",
       "    .dataframe tbody tr th:only-of-type {\n",
       "        vertical-align: middle;\n",
       "    }\n",
       "\n",
       "    .dataframe tbody tr th {\n",
       "        vertical-align: top;\n",
       "    }\n",
       "\n",
       "    .dataframe thead th {\n",
       "        text-align: right;\n",
       "    }\n",
       "</style>\n",
       "<table border=\"1\" class=\"dataframe\">\n",
       "  <thead>\n",
       "    <tr style=\"text-align: right;\">\n",
       "      <th></th>\n",
       "      <th>count</th>\n",
       "      <th>mean</th>\n",
       "      <th>std</th>\n",
       "      <th>min</th>\n",
       "      <th>25%</th>\n",
       "      <th>50%</th>\n",
       "      <th>75%</th>\n",
       "      <th>max</th>\n",
       "    </tr>\n",
       "  </thead>\n",
       "  <tbody>\n",
       "    <tr>\n",
       "      <th>CBOE</th>\n",
       "      <td>106.0</td>\n",
       "      <td>89.398774</td>\n",
       "      <td>5.757677</td>\n",
       "      <td>80.32</td>\n",
       "      <td>84.1525</td>\n",
       "      <td>89.58</td>\n",
       "      <td>93.4975</td>\n",
       "      <td>100.89</td>\n",
       "    </tr>\n",
       "  </tbody>\n",
       "</table>\n",
       "</div>"
      ],
      "text/plain": [
       "      count       mean       std    min      25%    50%      75%     max\n",
       "CBOE  106.0  89.398774  5.757677  80.32  84.1525  89.58  93.4975  100.89"
      ]
     },
     "execution_count": 200,
     "metadata": {},
     "output_type": "execute_result"
    }
   ],
   "source": [
    "stockCBOE.describe().transpose()"
   ]
  },
  {
   "cell_type": "code",
   "execution_count": 201,
   "metadata": {},
   "outputs": [],
   "source": [
    "#Creating a column 'CBOE_LOG' with the log values of 'NASDAQ.CBOE' column data\n",
    "stockCBOE[\"CBOE_LOG\"] =stockCBOE['CBOE'].apply(lambda x:np.log(x))"
   ]
  },
  {
   "cell_type": "code",
   "execution_count": 202,
   "metadata": {},
   "outputs": [],
   "source": [
    "StockPriceCBOE=stockCBOE.drop('CBOE',axis=1)"
   ]
  },
  {
   "cell_type": "code",
   "execution_count": 203,
   "metadata": {},
   "outputs": [
    {
     "data": {
      "text/plain": [
       "DATE\n",
       "2017-04-03    4.390367\n",
       "2017-04-04    4.393090\n",
       "2017-04-05    4.387263\n",
       "2017-04-06    4.386019\n",
       "2017-04-07    4.395436\n",
       "2017-04-10    4.395806\n",
       "2017-04-11    4.389375\n",
       "2017-04-12    4.400971\n",
       "2017-04-13    4.398023\n",
       "2017-04-17    4.408669\n",
       "2017-04-18    4.405865\n",
       "2017-04-19    4.409399\n",
       "2017-04-20    4.418841\n",
       "2017-04-21    4.418720\n",
       "2017-04-24    4.428910\n",
       "2017-04-25    4.432720\n",
       "2017-04-26    4.426402\n",
       "2017-04-27    4.411585\n",
       "2017-04-28    4.411707\n",
       "2017-05-01    4.414736\n",
       "2017-05-02    4.418600\n",
       "2017-05-03    4.419202\n",
       "2017-05-04    4.418600\n",
       "2017-05-05    4.427956\n",
       "2017-05-08    4.409885\n",
       "2017-05-09    4.442534\n",
       "2017-05-10    4.440767\n",
       "2017-05-11    4.435093\n",
       "2017-05-12    4.431650\n",
       "2017-05-15    4.442651\n",
       "                ...   \n",
       "2017-07-21    4.542656\n",
       "2017-07-24    4.541698\n",
       "2017-07-25    4.536891\n",
       "2017-07-26    4.543720\n",
       "2017-07-27    4.535713\n",
       "2017-07-28    4.537854\n",
       "2017-07-31    4.548917\n",
       "2017-08-01    4.556085\n",
       "2017-08-02    4.551664\n",
       "2017-08-03    4.553772\n",
       "2017-08-04    4.537961\n",
       "2017-08-07    4.550080\n",
       "2017-08-08    4.558707\n",
       "2017-08-09    4.572647\n",
       "2017-08-10    4.571303\n",
       "2017-08-11    4.566741\n",
       "2017-08-14    4.575432\n",
       "2017-08-15    4.580263\n",
       "2017-08-16    4.583231\n",
       "2017-08-17    4.576668\n",
       "2017-08-18    4.567468\n",
       "2017-08-21    4.575638\n",
       "2017-08-22    4.596230\n",
       "2017-08-23    4.589041\n",
       "2017-08-24    4.589650\n",
       "2017-08-25    4.602868\n",
       "2017-08-28    4.606669\n",
       "2017-08-29    4.608564\n",
       "2017-08-30    4.607867\n",
       "2017-08-31    4.614031\n",
       "Name: CBOE_LOG, Length: 106, dtype: float64"
      ]
     },
     "execution_count": 203,
     "metadata": {},
     "output_type": "execute_result"
    }
   ],
   "source": [
    "StockPriceCBOE[\"CBOE_LOG\"]"
   ]
  },
  {
   "cell_type": "code",
   "execution_count": 204,
   "metadata": {},
   "outputs": [
    {
     "data": {
      "text/plain": [
       "[<matplotlib.lines.Line2D at 0x1bee6ef0>]"
      ]
     },
     "execution_count": 204,
     "metadata": {},
     "output_type": "execute_result"
    },
    {
     "data": {
      "image/png": "[encoded data removed]",
      "text/plain": [
       "<matplotlib.figure.Figure at 0x1beb3a58>"
      ]
     },
     "metadata": {},
     "output_type": "display_data"
    }
   ],
   "source": [
    "#plot stock AAL\n",
    "plt.figure(figsize=(12,8))\n",
    "#plt.style.use('fivethirtyeight')\n",
    "plt.plot(StockPriceCBOE[\"CBOE_LOG\"])"
   ]
  },
  {
   "cell_type": "code",
   "execution_count": 205,
   "metadata": {},
   "outputs": [
    {
     "data": {
      "image/png": "[encoded data removed]",
      "text/plain": [
       "<matplotlib.figure.Figure at 0x1b9fd048>"
      ]
     },
     "metadata": {},
     "output_type": "display_data"
    }
   ],
   "source": [
    "rolmean = StockPriceCBOE.rolling(12).mean()\n",
    "rolstd = StockPriceCBOE.rolling(12).std()\n",
    "plt.figure(figsize=(12,8)) \n",
    "plt.plot( StockPriceCBOE, color='blue',label='Original')\n",
    "plt.plot(rolmean, color='red', label='Rolling Mean')\n",
    "plt.plot(rolstd, color='black', label = 'Rolling Std')\n",
    "plt.legend(loc='best')\n",
    "plt.title('Rolling Mean & Standard Deviation')\n",
    "plt.show()"
   ]
  },
  {
   "cell_type": "code",
   "execution_count": 206,
   "metadata": {},
   "outputs": [
    {
     "name": "stdout",
     "output_type": "stream",
     "text": [
      "Augmented Dickey-Fuller Test:\n",
      "ADF Test Statistic : 0.15119520835472883\n",
      "p-value : 0.969387539657401\n",
      "#Lags Used : 1\n",
      "Number of Observations Used : 104\n",
      "weak evidence against null hypothesis, time series has a unit root, indicating it is non-stationary \n"
     ]
    }
   ],
   "source": [
    "adf_check(StockPriceCBOE[\"CBOE_LOG\"])"
   ]
  },
  {
   "cell_type": "code",
   "execution_count": 207,
   "metadata": {},
   "outputs": [],
   "source": [
    "stockCBOE['CBOE First Diff'] = StockPriceCBOE[\"CBOE_LOG\"] - StockPriceCBOE[\"CBOE_LOG\"].shift(1)"
   ]
  },
  {
   "cell_type": "code",
   "execution_count": 208,
   "metadata": {},
   "outputs": [
    {
     "data": {
      "text/plain": [
       "DATE\n",
       "2017-04-03         NaN\n",
       "2017-04-04    0.002723\n",
       "2017-04-05   -0.005827\n",
       "2017-04-06   -0.001244\n",
       "2017-04-07    0.009418\n",
       "Name: CBOE First Diff, dtype: float64"
      ]
     },
     "execution_count": 208,
     "metadata": {},
     "output_type": "execute_result"
    }
   ],
   "source": [
    "stockCBOE['CBOE First Diff'].head()"
   ]
  },
  {
   "cell_type": "code",
   "execution_count": 209,
   "metadata": {},
   "outputs": [
    {
     "name": "stdout",
     "output_type": "stream",
     "text": [
      "Augmented Dickey-Fuller Test:\n",
      "ADF Test Statistic : -13.24572391243465\n",
      "p-value : 8.982796302540516e-25\n",
      "#Lags Used : 0\n",
      "Number of Observations Used : 104\n",
      "strong evidence against the null hypothesis, reject the null hypothesis. Data has no unit root and is stationary\n"
     ]
    }
   ],
   "source": [
    "adf_check(stockCBOE['CBOE First Diff'].dropna())"
   ]
  },
  {
   "cell_type": "code",
   "execution_count": 210,
   "metadata": {},
   "outputs": [
    {
     "data": {
      "text/plain": [
       "<matplotlib.axes._subplots.AxesSubplot at 0x1bec1668>"
      ]
     },
     "execution_count": 210,
     "metadata": {},
     "output_type": "execute_result"
    },
    {
     "data": {
      "image/png": "[encoded data removed]",
      "text/plain": [
       "<matplotlib.figure.Figure at 0x1bed30f0>"
      ]
     },
     "metadata": {},
     "output_type": "display_data"
    }
   ],
   "source": [
    "stockCBOE['CBOE First Diff'].plot()"
   ]
  },
  {
   "cell_type": "code",
   "execution_count": 211,
   "metadata": {},
   "outputs": [
    {
     "data": {
      "image/png": "[encoded data removed]",
      "text/plain": [
       "<matplotlib.figure.Figure at 0x1bf4cc50>"
      ]
     },
     "metadata": {},
     "output_type": "display_data"
    }
   ],
   "source": [
    "from statsmodels.graphics.tsaplots import plot_acf,plot_pacf\n",
    "\n",
    "fig_first = plot_acf(stockCBOE['CBOE First Diff'].dropna())"
   ]
  },
  {
   "cell_type": "code",
   "execution_count": 212,
   "metadata": {},
   "outputs": [
    {
     "data": {
      "image/png": "[encoded data removed]",
      "text/plain": [
       "<matplotlib.figure.Figure at 0x1c2a74a8>"
      ]
     },
     "metadata": {},
     "output_type": "display_data"
    }
   ],
   "source": [
    "result = plot_pacf(stockCBOE['CBOE First Diff'].dropna())"
   ]
  },
  {
   "cell_type": "code",
   "execution_count": 213,
   "metadata": {},
   "outputs": [
    {
     "name": "stdout",
     "output_type": "stream",
     "text": [
      "-724.272407175783\n"
     ]
    }
   ],
   "source": [
    "model_arima = ARIMA(StockPriceCBOE[\"CBOE_LOG\"],order=(5,1,2))\n",
    "model_arima_fit = model_arima.fit()\n",
    "print(model_arima_fit.aic)"
   ]
  },
  {
   "cell_type": "code",
   "execution_count": 215,
   "metadata": {},
   "outputs": [
    {
     "data": {
      "text/html": [
       "<table class=\"simpletable\">\n",
       "<tr>\n",
       "        <td>Model:</td>              <td>ARIMA</td>              <td>BIC:</td>          <td>-700.3868</td>\n",
       "</tr>\n",
       "<tr>\n",
       "  <td>Dependent Variable:</td>    <td>D.CBOE_LOG</td>       <td>Log-Likelihood:</td>     <td>371.14</td>  \n",
       "</tr>\n",
       "<tr>\n",
       "         <td>Date:</td>        <td>2018-12-05 07:28</td>        <td>Scale:</td>          <td>1.0000</td>  \n",
       "</tr>\n",
       "<tr>\n",
       "   <td>No. Observations:</td>         <td>105</td>              <td>Method:</td>         <td>css-mle</td> \n",
       "</tr>\n",
       "<tr>\n",
       "       <td>Df Model:</td>              <td>8</td>               <td>Sample:</td>       <td>04-04-2017</td>\n",
       "</tr>\n",
       "<tr>\n",
       "     <td>Df Residuals:</td>           <td>97</td>                  <td></td>           <td>08-31-2017</td>\n",
       "</tr>\n",
       "<tr>\n",
       "      <td>Converged:</td>           <td>0.0000</td>      <td>S.D. of innovations:</td>    <td>0.007</td>  \n",
       "</tr>\n",
       "<tr>\n",
       "         <td>AIC:</td>             <td>-724.2724</td>            <td>HQIC:</td>         <td>-714.593</td> \n",
       "</tr>\n",
       "</table>\n",
       "<table class=\"simpletable\">\n",
       "<tr>\n",
       "          <td></td>          <th>Coef.</th>  <th>Std.Err.</th>    <th>t</th>     <th>P>|t|</th> <th>[0.025</th>  <th>0.975]</th> \n",
       "</tr>\n",
       "<tr>\n",
       "  <th>const</th>            <td>0.0021</td>   <td>0.0000</td>  <td>42.4355</td> <td>0.0000</td> <td>0.0020</td>  <td>0.0022</td> \n",
       "</tr>\n",
       "<tr>\n",
       "  <th>ar.L1.D.CBOE_LOG</th> <td>0.8597</td>   <td>0.4917</td>  <td>1.7483</td>  <td>0.0836</td> <td>-0.1041</td> <td>1.8235</td> \n",
       "</tr>\n",
       "<tr>\n",
       "  <th>ar.L2.D.CBOE_LOG</th> <td>-0.0533</td>  <td>0.3041</td>  <td>-0.1751</td> <td>0.8613</td> <td>-0.6493</td> <td>0.5428</td> \n",
       "</tr>\n",
       "<tr>\n",
       "  <th>ar.L3.D.CBOE_LOG</th> <td>-0.0396</td>  <td>0.1408</td>  <td>-0.2812</td> <td>0.7792</td> <td>-0.3156</td> <td>0.2364</td> \n",
       "</tr>\n",
       "<tr>\n",
       "  <th>ar.L4.D.CBOE_LOG</th> <td>0.0847</td>   <td>0.1265</td>  <td>0.6700</td>  <td>0.5044</td> <td>-0.1631</td> <td>0.3326</td> \n",
       "</tr>\n",
       "<tr>\n",
       "  <th>ar.L5.D.CBOE_LOG</th> <td>-0.1693</td>  <td>0.1034</td>  <td>-1.6371</td> <td>0.1049</td> <td>-0.3720</td> <td>0.0334</td> \n",
       "</tr>\n",
       "<tr>\n",
       "  <th>ma.L1.D.CBOE_LOG</th> <td>-1.3016</td>  <td>0.5022</td>  <td>-2.5917</td> <td>0.0110</td> <td>-2.2859</td> <td>-0.3172</td>\n",
       "</tr>\n",
       "<tr>\n",
       "  <th>ma.L2.D.CBOE_LOG</th> <td>0.3016</td>   <td>0.5013</td>  <td>0.6015</td>  <td>0.5489</td> <td>-0.6810</td> <td>1.2841</td> \n",
       "</tr>\n",
       "</table>\n",
       "<table class=\"simpletable\">\n",
       "<tr>\n",
       "    <td></td>    <th>Real</th>   <th>Imaginary</th> <th>Modulus</th> <th>Frequency</th>\n",
       "</tr>\n",
       "<tr>\n",
       "  <th>AR.1</th> <td>1.1343</td>   <td>-0.4217</td>  <td>1.2102</td>   <td>-0.0566</td> \n",
       "</tr>\n",
       "<tr>\n",
       "  <th>AR.2</th> <td>1.1343</td>   <td>0.4217</td>   <td>1.2102</td>   <td>0.0566</td>  \n",
       "</tr>\n",
       "<tr>\n",
       "  <th>AR.3</th> <td>-0.0825</td>  <td>-1.5841</td>  <td>1.5862</td>   <td>-0.2583</td> \n",
       "</tr>\n",
       "<tr>\n",
       "  <th>AR.4</th> <td>-0.0825</td>  <td>1.5841</td>   <td>1.5862</td>   <td>0.2583</td>  \n",
       "</tr>\n",
       "<tr>\n",
       "  <th>AR.5</th> <td>-1.6031</td>  <td>-0.0000</td>  <td>1.6031</td>   <td>-0.5000</td> \n",
       "</tr>\n",
       "<tr>\n",
       "  <th>MA.1</th> <td>1.0000</td>   <td>0.0000</td>   <td>1.0000</td>   <td>0.0000</td>  \n",
       "</tr>\n",
       "<tr>\n",
       "  <th>MA.2</th> <td>3.3161</td>   <td>0.0000</td>   <td>3.3161</td>   <td>0.0000</td>  \n",
       "</tr>\n",
       "</table>"
      ],
      "text/plain": [
       "<class 'statsmodels.iolib.summary2.Summary'>\n",
       "\"\"\"\n",
       "                           Results: ARIMA\n",
       "====================================================================\n",
       "Model:              ARIMA            BIC:                 -700.3868 \n",
       "Dependent Variable: D.CBOE_LOG       Log-Likelihood:      371.14    \n",
       "Date:               2018-12-05 07:28 Scale:               1.0000    \n",
       "No. Observations:   105              Method:              css-mle   \n",
       "Df Model:           8                Sample:              04-04-2017\n",
       "Df Residuals:       97                                    08-31-2017\n",
       "Converged:          0.0000           S.D. of innovations: 0.007     \n",
       "AIC:                -724.2724        HQIC:                -714.593  \n",
       "--------------------------------------------------------------------\n",
       "                      Coef.  Std.Err.    t    P>|t|   [0.025  0.975]\n",
       "--------------------------------------------------------------------\n",
       "const                 0.0021   0.0000 42.4355 0.0000  0.0020  0.0022\n",
       "ar.L1.D.CBOE_LOG      0.8597   0.4917  1.7483 0.0836 -0.1041  1.8235\n",
       "ar.L2.D.CBOE_LOG     -0.0533   0.3041 -0.1751 0.8613 -0.6493  0.5428\n",
       "ar.L3.D.CBOE_LOG     -0.0396   0.1408 -0.2812 0.7792 -0.3156  0.2364\n",
       "ar.L4.D.CBOE_LOG      0.0847   0.1265  0.6700 0.5044 -0.1631  0.3326\n",
       "ar.L5.D.CBOE_LOG     -0.1693   0.1034 -1.6371 0.1049 -0.3720  0.0334\n",
       "ma.L1.D.CBOE_LOG     -1.3016   0.5022 -2.5917 0.0110 -2.2859 -0.3172\n",
       "ma.L2.D.CBOE_LOG      0.3016   0.5013  0.6015 0.5489 -0.6810  1.2841\n",
       "-----------------------------------------------------------------------------\n",
       "                 Real           Imaginary          Modulus          Frequency\n",
       "-----------------------------------------------------------------------------\n",
       "AR.1            1.1343            -0.4217           1.2102            -0.0566\n",
       "AR.2            1.1343             0.4217           1.2102             0.0566\n",
       "AR.3           -0.0825            -1.5841           1.5862            -0.2583\n",
       "AR.4           -0.0825             1.5841           1.5862             0.2583\n",
       "AR.5           -1.6031            -0.0000           1.6031            -0.5000\n",
       "MA.1            1.0000             0.0000           1.0000             0.0000\n",
       "MA.2            3.3161             0.0000           3.3161             0.0000\n",
       "====================================================================\n",
       "\n",
       "\"\"\""
      ]
     },
     "execution_count": 215,
     "metadata": {},
     "output_type": "execute_result"
    }
   ],
   "source": [
    "model_arima_fit.summary2()"
   ]
  },
  {
   "cell_type": "code",
   "execution_count": 216,
   "metadata": {},
   "outputs": [
    {
     "data": {
      "text/plain": [
       "array([4.61020629, 4.6087557 , 4.60774508, 4.60840224, 4.60836764,\n",
       "       4.60952422, 4.61131105, 4.6136705 , 4.61610055, 4.61875386,\n",
       "       4.62142445, 4.62403703, 4.62649902, 4.62884094, 4.63105361,\n",
       "       4.63315968])"
      ]
     },
     "execution_count": 216,
     "metadata": {},
     "output_type": "execute_result"
    }
   ],
   "source": [
    "model_arima_fit.forecast(16)[0]"
   ]
  },
  {
   "cell_type": "code",
   "execution_count": 217,
   "metadata": {},
   "outputs": [],
   "source": [
    "#take the CSCO price and forecase\n",
    "stockCSCO=pd.DataFrame(StockPriceData.CSCO)"
   ]
  },
  {
   "cell_type": "code",
   "execution_count": 218,
   "metadata": {},
   "outputs": [
    {
     "data": {
      "text/html": [
       "<div>\n",
       "<style scoped>\n",
       "    .dataframe tbody tr th:only-of-type {\n",
       "        vertical-align: middle;\n",
       "    }\n",
       "\n",
       "    .dataframe tbody tr th {\n",
       "        vertical-align: top;\n",
       "    }\n",
       "\n",
       "    .dataframe thead th {\n",
       "        text-align: right;\n",
       "    }\n",
       "</style>\n",
       "<table border=\"1\" class=\"dataframe\">\n",
       "  <thead>\n",
       "    <tr style=\"text-align: right;\">\n",
       "      <th></th>\n",
       "      <th>CSCO</th>\n",
       "    </tr>\n",
       "    <tr>\n",
       "      <th>DATE</th>\n",
       "      <th></th>\n",
       "    </tr>\n",
       "  </thead>\n",
       "  <tbody>\n",
       "    <tr>\n",
       "      <th>2017-04-03</th>\n",
       "      <td>33.580</td>\n",
       "    </tr>\n",
       "    <tr>\n",
       "      <th>2017-04-04</th>\n",
       "      <td>33.410</td>\n",
       "    </tr>\n",
       "    <tr>\n",
       "      <th>2017-04-05</th>\n",
       "      <td>33.000</td>\n",
       "    </tr>\n",
       "    <tr>\n",
       "      <th>2017-04-06</th>\n",
       "      <td>33.075</td>\n",
       "    </tr>\n",
       "    <tr>\n",
       "      <th>2017-04-07</th>\n",
       "      <td>32.960</td>\n",
       "    </tr>\n",
       "  </tbody>\n",
       "</table>\n",
       "</div>"
      ],
      "text/plain": [
       "              CSCO\n",
       "DATE              \n",
       "2017-04-03  33.580\n",
       "2017-04-04  33.410\n",
       "2017-04-05  33.000\n",
       "2017-04-06  33.075\n",
       "2017-04-07  32.960"
      ]
     },
     "execution_count": 218,
     "metadata": {},
     "output_type": "execute_result"
    }
   ],
   "source": [
    "stockCSCO.head()"
   ]
  },
  {
   "cell_type": "code",
   "execution_count": 219,
   "metadata": {},
   "outputs": [
    {
     "data": {
      "text/html": [
       "<div>\n",
       "<style scoped>\n",
       "    .dataframe tbody tr th:only-of-type {\n",
       "        vertical-align: middle;\n",
       "    }\n",
       "\n",
       "    .dataframe tbody tr th {\n",
       "        vertical-align: top;\n",
       "    }\n",
       "\n",
       "    .dataframe thead th {\n",
       "        text-align: right;\n",
       "    }\n",
       "</style>\n",
       "<table border=\"1\" class=\"dataframe\">\n",
       "  <thead>\n",
       "    <tr style=\"text-align: right;\">\n",
       "      <th></th>\n",
       "      <th>count</th>\n",
       "      <th>mean</th>\n",
       "      <th>std</th>\n",
       "      <th>min</th>\n",
       "      <th>25%</th>\n",
       "      <th>50%</th>\n",
       "      <th>75%</th>\n",
       "      <th>max</th>\n",
       "    </tr>\n",
       "  </thead>\n",
       "  <tbody>\n",
       "    <tr>\n",
       "      <th>CSCO</th>\n",
       "      <td>106.0</td>\n",
       "      <td>32.129151</td>\n",
       "      <td>0.993225</td>\n",
       "      <td>30.37</td>\n",
       "      <td>31.4825</td>\n",
       "      <td>31.78</td>\n",
       "      <td>32.7825</td>\n",
       "      <td>34.39</td>\n",
       "    </tr>\n",
       "  </tbody>\n",
       "</table>\n",
       "</div>"
      ],
      "text/plain": [
       "      count       mean       std    min      25%    50%      75%    max\n",
       "CSCO  106.0  32.129151  0.993225  30.37  31.4825  31.78  32.7825  34.39"
      ]
     },
     "execution_count": 219,
     "metadata": {},
     "output_type": "execute_result"
    }
   ],
   "source": [
    "stockCSCO.describe().transpose()"
   ]
  },
  {
   "cell_type": "code",
   "execution_count": 220,
   "metadata": {},
   "outputs": [],
   "source": [
    "#Creating a column 'CSCO_LOG' with the log values of 'NASDAQ.CSCO' column data\n",
    "stockCSCO[\"CSCO_LOG\"] =stockCSCO['CSCO'].apply(lambda x:np.log(x))"
   ]
  },
  {
   "cell_type": "code",
   "execution_count": 221,
   "metadata": {},
   "outputs": [],
   "source": [
    "StockPriceCSCO=stockCSCO.drop('CSCO',axis=1)"
   ]
  },
  {
   "cell_type": "code",
   "execution_count": 222,
   "metadata": {},
   "outputs": [
    {
     "data": {
      "text/plain": [
       "DATE\n",
       "2017-04-03    3.513931\n",
       "2017-04-04    3.508855\n",
       "2017-04-05    3.496508\n",
       "2017-04-06    3.498778\n",
       "2017-04-07    3.495295\n",
       "2017-04-10    3.497113\n",
       "2017-04-11    3.494080\n",
       "2017-04-12    3.484926\n",
       "2017-04-13    3.478776\n",
       "2017-04-17    3.484619\n",
       "2017-04-18    3.486457\n",
       "2017-04-19    3.485845\n",
       "2017-04-20    3.491343\n",
       "2017-04-21    3.491038\n",
       "2017-04-24    3.504957\n",
       "2017-04-25    3.509155\n",
       "2017-04-26    3.508556\n",
       "2017-04-27    3.518980\n",
       "2017-04-28    3.528124\n",
       "2017-05-01    3.525478\n",
       "2017-05-02    3.533102\n",
       "2017-05-03    3.533687\n",
       "2017-05-04    3.531641\n",
       "2017-05-05    3.537766\n",
       "2017-05-08    3.534854\n",
       "2017-05-09    3.523415\n",
       "2017-05-10    3.518684\n",
       "2017-05-11    3.515419\n",
       "2017-05-12    3.509902\n",
       "2017-05-15    3.533102\n",
       "                ...   \n",
       "2017-07-21    3.460723\n",
       "2017-07-24    3.461351\n",
       "2017-07-25    3.469479\n",
       "2017-07-26    3.455054\n",
       "2017-07-27    3.452207\n",
       "2017-07-28    3.450622\n",
       "2017-07-31    3.448399\n",
       "2017-08-01    3.454738\n",
       "2017-08-02    3.450622\n",
       "2017-08-03    3.451890\n",
       "2017-08-04    3.459466\n",
       "2017-08-07    3.460723\n",
       "2017-08-08    3.455370\n",
       "2017-08-09    3.453790\n",
       "2017-08-10    3.433987\n",
       "2017-08-11    3.449035\n",
       "2017-08-14    3.460723\n",
       "2017-08-15    3.468544\n",
       "2017-08-16    3.476305\n",
       "2017-08-17    3.435277\n",
       "2017-08-18    3.413455\n",
       "2017-08-21    3.423611\n",
       "2017-08-22    3.442659\n",
       "2017-08-23    3.431403\n",
       "2017-08-24    3.441699\n",
       "2017-08-25    3.448081\n",
       "2017-08-28    3.451257\n",
       "2017-08-29    3.449352\n",
       "2017-08-30    3.465423\n",
       "2017-08-31    3.472743\n",
       "Name: CSCO_LOG, Length: 106, dtype: float64"
      ]
     },
     "execution_count": 222,
     "metadata": {},
     "output_type": "execute_result"
    }
   ],
   "source": [
    "StockPriceCSCO[\"CSCO_LOG\"]"
   ]
  },
  {
   "cell_type": "code",
   "execution_count": 223,
   "metadata": {},
   "outputs": [
    {
     "data": {
      "text/plain": [
       "[<matplotlib.lines.Line2D at 0x1c3a5978>]"
      ]
     },
     "execution_count": 223,
     "metadata": {},
     "output_type": "execute_result"
    },
    {
     "data": {
      "image/png": "[encoded data removed]",
      "text/plain": [
       "<matplotlib.figure.Figure at 0x1c37c5c0>"
      ]
     },
     "metadata": {},
     "output_type": "display_data"
    }
   ],
   "source": [
    "#plot stock AAL\n",
    "plt.figure(figsize=(12,8))\n",
    "#plt.style.use('fivethirtyeight')\n",
    "plt.plot(StockPriceCSCO[\"CSCO_LOG\"])"
   ]
  },
  {
   "cell_type": "code",
   "execution_count": 224,
   "metadata": {},
   "outputs": [
    {
     "data": {
      "image/png": "[encoded data removed]",
      "text/plain": [
       "<matplotlib.figure.Figure at 0x1bec1198>"
      ]
     },
     "metadata": {},
     "output_type": "display_data"
    }
   ],
   "source": [
    "rolmean = StockPriceCSCO.rolling(12).mean()\n",
    "rolstd = StockPriceCSCO.rolling(12).std()\n",
    "plt.figure(figsize=(12,8)) \n",
    "plt.plot( StockPriceCSCO, color='blue',label='Original')\n",
    "plt.plot(rolmean, color='red', label='Rolling Mean')\n",
    "plt.plot(rolstd, color='black', label = 'Rolling Std')\n",
    "plt.legend(loc='best')\n",
    "plt.title('Rolling Mean & Standard Deviation')\n",
    "plt.show()"
   ]
  },
  {
   "cell_type": "code",
   "execution_count": 225,
   "metadata": {},
   "outputs": [
    {
     "name": "stdout",
     "output_type": "stream",
     "text": [
      "Augmented Dickey-Fuller Test:\n",
      "ADF Test Statistic : -1.9692074933468409\n",
      "p-value : 0.30023555675882463\n",
      "#Lags Used : 2\n",
      "Number of Observations Used : 103\n",
      "weak evidence against null hypothesis, time series has a unit root, indicating it is non-stationary \n"
     ]
    }
   ],
   "source": [
    "adf_check(StockPriceCSCO[\"CSCO_LOG\"])"
   ]
  },
  {
   "cell_type": "code",
   "execution_count": 226,
   "metadata": {},
   "outputs": [],
   "source": [
    "stockCSCO['CSCO First Diff'] = StockPriceCSCO[\"CSCO_LOG\"] - StockPriceCSCO[\"CSCO_LOG\"].shift(1)"
   ]
  },
  {
   "cell_type": "code",
   "execution_count": 227,
   "metadata": {},
   "outputs": [
    {
     "data": {
      "text/plain": [
       "DATE\n",
       "2017-04-03         NaN\n",
       "2017-04-04   -0.005075\n",
       "2017-04-05   -0.012348\n",
       "2017-04-06    0.002270\n",
       "2017-04-07   -0.003483\n",
       "Name: CSCO First Diff, dtype: float64"
      ]
     },
     "execution_count": 227,
     "metadata": {},
     "output_type": "execute_result"
    }
   ],
   "source": [
    "stockCSCO['CSCO First Diff'].head()"
   ]
  },
  {
   "cell_type": "code",
   "execution_count": 228,
   "metadata": {},
   "outputs": [
    {
     "name": "stdout",
     "output_type": "stream",
     "text": [
      "Augmented Dickey-Fuller Test:\n",
      "ADF Test Statistic : -7.237362416810143\n",
      "p-value : 1.9239138164285327e-10\n",
      "#Lags Used : 2\n",
      "Number of Observations Used : 102\n",
      "strong evidence against the null hypothesis, reject the null hypothesis. Data has no unit root and is stationary\n"
     ]
    }
   ],
   "source": [
    "adf_check(stockCSCO['CSCO First Diff'].dropna())"
   ]
  },
  {
   "cell_type": "code",
   "execution_count": 229,
   "metadata": {},
   "outputs": [
    {
     "data": {
      "text/plain": [
       "<matplotlib.axes._subplots.AxesSubplot at 0x1bf55780>"
      ]
     },
     "execution_count": 229,
     "metadata": {},
     "output_type": "execute_result"
    },
    {
     "data": {
      "image/png": "[encoded data removed]",
      "text/plain": [
       "<matplotlib.figure.Figure at 0x1c30d0f0>"
      ]
     },
     "metadata": {},
     "output_type": "display_data"
    }
   ],
   "source": [
    "stockCSCO['CSCO First Diff'].plot()"
   ]
  },
  {
   "cell_type": "code",
   "execution_count": 230,
   "metadata": {},
   "outputs": [
    {
     "data": {
      "image/png": "[encoded data removed]",
      "text/plain": [
       "<matplotlib.figure.Figure at 0x1be95e48>"
      ]
     },
     "metadata": {},
     "output_type": "display_data"
    }
   ],
   "source": [
    "fig_first = plot_acf(stockCSCO['CSCO First Diff'].dropna())"
   ]
  },
  {
   "cell_type": "code",
   "execution_count": 231,
   "metadata": {},
   "outputs": [
    {
     "data": {
      "image/png": "[encoded data removed]",
      "text/plain": [
       "<matplotlib.figure.Figure at 0x1be0b208>"
      ]
     },
     "metadata": {},
     "output_type": "display_data"
    }
   ],
   "source": [
    "result = plot_pacf(stockCSCO['CSCO First Diff'].dropna())"
   ]
  },
  {
   "cell_type": "code",
   "execution_count": 232,
   "metadata": {},
   "outputs": [
    {
     "name": "stdout",
     "output_type": "stream",
     "text": [
      "-633.1126858067161\n"
     ]
    }
   ],
   "source": [
    "model_arima = ARIMA(StockPriceCSCO[\"CSCO_LOG\"],order=(5,1,2))\n",
    "model_arima_fit = model_arima.fit()\n",
    "print(model_arima_fit.aic)"
   ]
  },
  {
   "cell_type": "code",
   "execution_count": 233,
   "metadata": {},
   "outputs": [
    {
     "data": {
      "text/html": [
       "<table class=\"simpletable\">\n",
       "<tr>\n",
       "        <td>Model:</td>              <td>ARIMA</td>              <td>BIC:</td>          <td>-609.2270</td>\n",
       "</tr>\n",
       "<tr>\n",
       "  <td>Dependent Variable:</td>    <td>D.CSCO_LOG</td>       <td>Log-Likelihood:</td>     <td>325.56</td>  \n",
       "</tr>\n",
       "<tr>\n",
       "         <td>Date:</td>        <td>2018-12-05 08:10</td>        <td>Scale:</td>          <td>1.0000</td>  \n",
       "</tr>\n",
       "<tr>\n",
       "   <td>No. Observations:</td>         <td>105</td>              <td>Method:</td>         <td>css-mle</td> \n",
       "</tr>\n",
       "<tr>\n",
       "       <td>Df Model:</td>              <td>8</td>               <td>Sample:</td>       <td>04-04-2017</td>\n",
       "</tr>\n",
       "<tr>\n",
       "     <td>Df Residuals:</td>           <td>97</td>                  <td></td>           <td>08-31-2017</td>\n",
       "</tr>\n",
       "<tr>\n",
       "      <td>Converged:</td>           <td>0.0000</td>      <td>S.D. of innovations:</td>    <td>0.011</td>  \n",
       "</tr>\n",
       "<tr>\n",
       "         <td>AIC:</td>             <td>-633.1127</td>            <td>HQIC:</td>         <td>-623.434</td> \n",
       "</tr>\n",
       "</table>\n",
       "<table class=\"simpletable\">\n",
       "<tr>\n",
       "          <td></td>          <th>Coef.</th>  <th>Std.Err.</th>     <th>t</th>     <th>P>|t|</th> <th>[0.025</th>  <th>0.975]</th> \n",
       "</tr>\n",
       "<tr>\n",
       "  <th>const</th>            <td>-0.0004</td>  <td>0.0009</td>   <td>-0.4434</td> <td>0.6585</td> <td>-0.0022</td> <td>0.0014</td> \n",
       "</tr>\n",
       "<tr>\n",
       "  <th>ar.L1.D.CSCO_LOG</th> <td>-1.6318</td>  <td>0.1000</td>  <td>-16.3167</td> <td>0.0000</td> <td>-1.8279</td> <td>-1.4358</td>\n",
       "</tr>\n",
       "<tr>\n",
       "  <th>ar.L2.D.CSCO_LOG</th> <td>-0.8992</td>  <td>0.1853</td>   <td>-4.8541</td> <td>0.0000</td> <td>-1.2623</td> <td>-0.5362</td>\n",
       "</tr>\n",
       "<tr>\n",
       "  <th>ar.L3.D.CSCO_LOG</th> <td>-0.3787</td>  <td>0.2018</td>   <td>-1.8766</td> <td>0.0636</td> <td>-0.7742</td> <td>0.0168</td> \n",
       "</tr>\n",
       "<tr>\n",
       "  <th>ar.L4.D.CSCO_LOG</th> <td>-0.3436</td>  <td>0.1853</td>   <td>-1.8544</td> <td>0.0667</td> <td>-0.7067</td> <td>0.0196</td> \n",
       "</tr>\n",
       "<tr>\n",
       "  <th>ar.L5.D.CSCO_LOG</th> <td>-0.0596</td>  <td>0.1014</td>   <td>-0.5878</td> <td>0.5580</td> <td>-0.2582</td> <td>0.1391</td> \n",
       "</tr>\n",
       "<tr>\n",
       "  <th>ma.L1.D.CSCO_LOG</th> <td>1.8275</td>   <td>0.0423</td>   <td>43.2293</td> <td>0.0000</td> <td>1.7446</td>  <td>1.9103</td> \n",
       "</tr>\n",
       "<tr>\n",
       "  <th>ma.L2.D.CSCO_LOG</th> <td>1.0000</td>   <td>0.0404</td>   <td>24.7775</td> <td>0.0000</td> <td>0.9209</td>  <td>1.0791</td> \n",
       "</tr>\n",
       "</table>\n",
       "<table class=\"simpletable\">\n",
       "<tr>\n",
       "    <td></td>    <th>Real</th>   <th>Imaginary</th> <th>Modulus</th> <th>Frequency</th>\n",
       "</tr>\n",
       "<tr>\n",
       "  <th>AR.1</th> <td>-0.9798</td>  <td>-0.3780</td>  <td>1.0502</td>   <td>-0.4414</td> \n",
       "</tr>\n",
       "<tr>\n",
       "  <th>AR.2</th> <td>-0.9798</td>  <td>0.3780</td>   <td>1.0502</td>   <td>0.4414</td>  \n",
       "</tr>\n",
       "<tr>\n",
       "  <th>AR.3</th> <td>0.5433</td>   <td>-1.6778</td>  <td>1.7635</td>   <td>-0.2002</td> \n",
       "</tr>\n",
       "<tr>\n",
       "  <th>AR.4</th> <td>0.5433</td>   <td>1.6778</td>   <td>1.7635</td>   <td>0.2002</td>  \n",
       "</tr>\n",
       "<tr>\n",
       "  <th>AR.5</th> <td>-4.8938</td>  <td>-0.0000</td>  <td>4.8938</td>   <td>-0.5000</td> \n",
       "</tr>\n",
       "<tr>\n",
       "  <th>MA.1</th> <td>-0.9137</td>  <td>-0.4063</td>  <td>1.0000</td>   <td>-0.4334</td> \n",
       "</tr>\n",
       "<tr>\n",
       "  <th>MA.2</th> <td>-0.9137</td>  <td>0.4063</td>   <td>1.0000</td>   <td>0.4334</td>  \n",
       "</tr>\n",
       "</table>"
      ],
      "text/plain": [
       "<class 'statsmodels.iolib.summary2.Summary'>\n",
       "\"\"\"\n",
       "                           Results: ARIMA\n",
       "====================================================================\n",
       "Model:              ARIMA            BIC:                 -609.2270 \n",
       "Dependent Variable: D.CSCO_LOG       Log-Likelihood:      325.56    \n",
       "Date:               2018-12-05 08:10 Scale:               1.0000    \n",
       "No. Observations:   105              Method:              css-mle   \n",
       "Df Model:           8                Sample:              04-04-2017\n",
       "Df Residuals:       97                                    08-31-2017\n",
       "Converged:          0.0000           S.D. of innovations: 0.011     \n",
       "AIC:                -633.1127        HQIC:                -623.434  \n",
       "--------------------------------------------------------------------\n",
       "                     Coef.  Std.Err.    t     P>|t|   [0.025  0.975]\n",
       "--------------------------------------------------------------------\n",
       "const               -0.0004   0.0009  -0.4434 0.6585 -0.0022  0.0014\n",
       "ar.L1.D.CSCO_LOG    -1.6318   0.1000 -16.3167 0.0000 -1.8279 -1.4358\n",
       "ar.L2.D.CSCO_LOG    -0.8992   0.1853  -4.8541 0.0000 -1.2623 -0.5362\n",
       "ar.L3.D.CSCO_LOG    -0.3787   0.2018  -1.8766 0.0636 -0.7742  0.0168\n",
       "ar.L4.D.CSCO_LOG    -0.3436   0.1853  -1.8544 0.0667 -0.7067  0.0196\n",
       "ar.L5.D.CSCO_LOG    -0.0596   0.1014  -0.5878 0.5580 -0.2582  0.1391\n",
       "ma.L1.D.CSCO_LOG     1.8275   0.0423  43.2293 0.0000  1.7446  1.9103\n",
       "ma.L2.D.CSCO_LOG     1.0000   0.0404  24.7775 0.0000  0.9209  1.0791\n",
       "-----------------------------------------------------------------------------\n",
       "                 Real           Imaginary          Modulus          Frequency\n",
       "-----------------------------------------------------------------------------\n",
       "AR.1           -0.9798            -0.3780           1.0502            -0.4414\n",
       "AR.2           -0.9798             0.3780           1.0502             0.4414\n",
       "AR.3            0.5433            -1.6778           1.7635            -0.2002\n",
       "AR.4            0.5433             1.6778           1.7635             0.2002\n",
       "AR.5           -4.8938            -0.0000           4.8938            -0.5000\n",
       "MA.1           -0.9137            -0.4063           1.0000            -0.4334\n",
       "MA.2           -0.9137             0.4063           1.0000             0.4334\n",
       "====================================================================\n",
       "\n",
       "\"\"\""
      ]
     },
     "execution_count": 233,
     "metadata": {},
     "output_type": "execute_result"
    }
   ],
   "source": [
    "model_arima_fit.summary2()"
   ]
  },
  {
   "cell_type": "code",
   "execution_count": 234,
   "metadata": {},
   "outputs": [
    {
     "data": {
      "text/plain": [
       "array([3.47007531, 3.46622409, 3.46494831, 3.46625219, 3.46543135,\n",
       "       3.46578444, 3.46434129, 3.46453855, 3.46380593, 3.46351907,\n",
       "       3.46326698, 3.46245285, 3.46257757, 3.46156473, 3.46173828,\n",
       "       3.46083427])"
      ]
     },
     "execution_count": 234,
     "metadata": {},
     "output_type": "execute_result"
    }
   ],
   "source": [
    "model_arima_fit.forecast(16)[0]"
   ]
  },
  {
   "cell_type": "code",
   "execution_count": 235,
   "metadata": {},
   "outputs": [],
   "source": [
    "#take the EBAY price and forecase\n",
    "stockEBAY=pd.DataFrame(StockPriceData.EBAY)"
   ]
  },
  {
   "cell_type": "code",
   "execution_count": 236,
   "metadata": {},
   "outputs": [
    {
     "data": {
      "text/html": [
       "<div>\n",
       "<style scoped>\n",
       "    .dataframe tbody tr th:only-of-type {\n",
       "        vertical-align: middle;\n",
       "    }\n",
       "\n",
       "    .dataframe tbody tr th {\n",
       "        vertical-align: top;\n",
       "    }\n",
       "\n",
       "    .dataframe thead th {\n",
       "        text-align: right;\n",
       "    }\n",
       "</style>\n",
       "<table border=\"1\" class=\"dataframe\">\n",
       "  <thead>\n",
       "    <tr style=\"text-align: right;\">\n",
       "      <th></th>\n",
       "      <th>EBAY</th>\n",
       "    </tr>\n",
       "    <tr>\n",
       "      <th>DATE</th>\n",
       "      <th></th>\n",
       "    </tr>\n",
       "  </thead>\n",
       "  <tbody>\n",
       "    <tr>\n",
       "      <th>2017-04-03</th>\n",
       "      <td>33.76</td>\n",
       "    </tr>\n",
       "    <tr>\n",
       "      <th>2017-04-04</th>\n",
       "      <td>34.14</td>\n",
       "    </tr>\n",
       "    <tr>\n",
       "      <th>2017-04-05</th>\n",
       "      <td>33.81</td>\n",
       "    </tr>\n",
       "    <tr>\n",
       "      <th>2017-04-06</th>\n",
       "      <td>34.16</td>\n",
       "    </tr>\n",
       "    <tr>\n",
       "      <th>2017-04-07</th>\n",
       "      <td>33.91</td>\n",
       "    </tr>\n",
       "  </tbody>\n",
       "</table>\n",
       "</div>"
      ],
      "text/plain": [
       "             EBAY\n",
       "DATE             \n",
       "2017-04-03  33.76\n",
       "2017-04-04  34.14\n",
       "2017-04-05  33.81\n",
       "2017-04-06  34.16\n",
       "2017-04-07  33.91"
      ]
     },
     "execution_count": 236,
     "metadata": {},
     "output_type": "execute_result"
    }
   ],
   "source": [
    "stockEBAY.head()"
   ]
  },
  {
   "cell_type": "code",
   "execution_count": 237,
   "metadata": {},
   "outputs": [
    {
     "data": {
      "text/html": [
       "<div>\n",
       "<style scoped>\n",
       "    .dataframe tbody tr th:only-of-type {\n",
       "        vertical-align: middle;\n",
       "    }\n",
       "\n",
       "    .dataframe tbody tr th {\n",
       "        vertical-align: top;\n",
       "    }\n",
       "\n",
       "    .dataframe thead th {\n",
       "        text-align: right;\n",
       "    }\n",
       "</style>\n",
       "<table border=\"1\" class=\"dataframe\">\n",
       "  <thead>\n",
       "    <tr style=\"text-align: right;\">\n",
       "      <th></th>\n",
       "      <th>EBAY</th>\n",
       "    </tr>\n",
       "    <tr>\n",
       "      <th>DATE</th>\n",
       "      <th></th>\n",
       "    </tr>\n",
       "  </thead>\n",
       "  <tbody>\n",
       "    <tr>\n",
       "      <th>2017-08-25</th>\n",
       "      <td>34.68</td>\n",
       "    </tr>\n",
       "    <tr>\n",
       "      <th>2017-08-28</th>\n",
       "      <td>34.81</td>\n",
       "    </tr>\n",
       "    <tr>\n",
       "      <th>2017-08-29</th>\n",
       "      <td>35.20</td>\n",
       "    </tr>\n",
       "    <tr>\n",
       "      <th>2017-08-30</th>\n",
       "      <td>35.69</td>\n",
       "    </tr>\n",
       "    <tr>\n",
       "      <th>2017-08-31</th>\n",
       "      <td>36.13</td>\n",
       "    </tr>\n",
       "  </tbody>\n",
       "</table>\n",
       "</div>"
      ],
      "text/plain": [
       "             EBAY\n",
       "DATE             \n",
       "2017-08-25  34.68\n",
       "2017-08-28  34.81\n",
       "2017-08-29  35.20\n",
       "2017-08-30  35.69\n",
       "2017-08-31  36.13"
      ]
     },
     "execution_count": 237,
     "metadata": {},
     "output_type": "execute_result"
    }
   ],
   "source": [
    "stockEBAY.tail()"
   ]
  },
  {
   "cell_type": "code",
   "execution_count": 238,
   "metadata": {},
   "outputs": [
    {
     "data": {
      "text/html": [
       "<div>\n",
       "<style scoped>\n",
       "    .dataframe tbody tr th:only-of-type {\n",
       "        vertical-align: middle;\n",
       "    }\n",
       "\n",
       "    .dataframe tbody tr th {\n",
       "        vertical-align: top;\n",
       "    }\n",
       "\n",
       "    .dataframe thead th {\n",
       "        text-align: right;\n",
       "    }\n",
       "</style>\n",
       "<table border=\"1\" class=\"dataframe\">\n",
       "  <thead>\n",
       "    <tr style=\"text-align: right;\">\n",
       "      <th></th>\n",
       "      <th>count</th>\n",
       "      <th>mean</th>\n",
       "      <th>std</th>\n",
       "      <th>min</th>\n",
       "      <th>25%</th>\n",
       "      <th>50%</th>\n",
       "      <th>75%</th>\n",
       "      <th>max</th>\n",
       "    </tr>\n",
       "  </thead>\n",
       "  <tbody>\n",
       "    <tr>\n",
       "      <th>EBAY</th>\n",
       "      <td>106.0</td>\n",
       "      <td>34.791981</td>\n",
       "      <td>1.102618</td>\n",
       "      <td>32.05</td>\n",
       "      <td>34.0375</td>\n",
       "      <td>34.81</td>\n",
       "      <td>35.53</td>\n",
       "      <td>37.18</td>\n",
       "    </tr>\n",
       "  </tbody>\n",
       "</table>\n",
       "</div>"
      ],
      "text/plain": [
       "      count       mean       std    min      25%    50%    75%    max\n",
       "EBAY  106.0  34.791981  1.102618  32.05  34.0375  34.81  35.53  37.18"
      ]
     },
     "execution_count": 238,
     "metadata": {},
     "output_type": "execute_result"
    }
   ],
   "source": [
    "stockEBAY.describe().transpose()"
   ]
  },
  {
   "cell_type": "code",
   "execution_count": 239,
   "metadata": {},
   "outputs": [],
   "source": [
    "#Creating a column 'EBAY_LOG' with the log values of 'NASDAQ.EBAY' column data\n",
    "stockEBAY[\"EBAY_LOG\"] =stockEBAY['EBAY'].apply(lambda x:np.log(x))"
   ]
  },
  {
   "cell_type": "code",
   "execution_count": 240,
   "metadata": {},
   "outputs": [],
   "source": [
    "StockPriceEBAY=stockEBAY.drop('EBAY',axis=1)"
   ]
  },
  {
   "cell_type": "code",
   "execution_count": 241,
   "metadata": {},
   "outputs": [
    {
     "data": {
      "text/plain": [
       "DATE\n",
       "2017-04-03    3.519277\n",
       "2017-04-04    3.530470\n",
       "2017-04-05    3.520757\n",
       "2017-04-06    3.531055\n",
       "2017-04-07    3.523710\n",
       "2017-04-10    3.528124\n",
       "2017-04-11    3.526066\n",
       "2017-04-12    3.533687\n",
       "2017-04-13    3.536020\n",
       "2017-04-17    3.539219\n",
       "2017-04-18    3.526949\n",
       "2017-04-19    3.522087\n",
       "2017-04-20    3.482163\n",
       "2017-04-21    3.471345\n",
       "2017-04-24    3.467297\n",
       "2017-04-25    3.490733\n",
       "2017-04-26    3.496811\n",
       "2017-04-27    3.498324\n",
       "2017-04-28    3.508855\n",
       "2017-05-01    3.505858\n",
       "2017-05-02    3.511844\n",
       "2017-05-03    3.504355\n",
       "2017-05-04    3.511844\n",
       "2017-05-05    3.511545\n",
       "2017-05-08    3.503754\n",
       "2017-05-09    3.518091\n",
       "2017-05-10    3.522825\n",
       "2017-05-11    3.529884\n",
       "2017-05-12    3.528417\n",
       "2017-05-15    3.531641\n",
       "                ...   \n",
       "2017-07-21    3.600321\n",
       "2017-07-24    3.594019\n",
       "2017-07-25    3.592369\n",
       "2017-07-26    3.611998\n",
       "2017-07-27    3.588230\n",
       "2017-07-28    3.581851\n",
       "2017-07-31    3.575991\n",
       "2017-08-01    3.581016\n",
       "2017-08-02    3.580737\n",
       "2017-08-03    3.575431\n",
       "2017-08-04    3.572907\n",
       "2017-08-07    3.586570\n",
       "2017-08-08    3.593469\n",
       "2017-08-09    3.585739\n",
       "2017-08-10    3.555062\n",
       "2017-08-11    3.556776\n",
       "2017-08-14    3.561046\n",
       "2017-08-15    3.562466\n",
       "2017-08-16    3.565581\n",
       "2017-08-17    3.551053\n",
       "2017-08-18    3.549330\n",
       "2017-08-21    3.533395\n",
       "2017-08-22    3.549905\n",
       "2017-08-23    3.552200\n",
       "2017-08-24    3.551914\n",
       "2017-08-25    3.546163\n",
       "2017-08-28    3.549905\n",
       "2017-08-29    3.561046\n",
       "2017-08-30    3.574871\n",
       "2017-08-31    3.587124\n",
       "Name: EBAY_LOG, Length: 106, dtype: float64"
      ]
     },
     "execution_count": 241,
     "metadata": {},
     "output_type": "execute_result"
    }
   ],
   "source": [
    "StockPriceEBAY[\"EBAY_LOG\"]"
   ]
  },
  {
   "cell_type": "code",
   "execution_count": 242,
   "metadata": {},
   "outputs": [
    {
     "data": {
      "text/plain": [
       "[<matplotlib.lines.Line2D at 0xb331518>]"
      ]
     },
     "execution_count": 242,
     "metadata": {},
     "output_type": "execute_result"
    },
    {
     "data": {
      "image/png": "[encoded data removed]",
      "text/plain": [
       "<matplotlib.figure.Figure at 0xb300a20>"
      ]
     },
     "metadata": {},
     "output_type": "display_data"
    }
   ],
   "source": [
    "#plot stock AAL\n",
    "plt.figure(figsize=(12,8))\n",
    "#plt.style.use('fivethirtyeight')\n",
    "plt.plot(StockPriceEBAY[\"EBAY_LOG\"])"
   ]
  },
  {
   "cell_type": "code",
   "execution_count": 243,
   "metadata": {},
   "outputs": [
    {
     "data": {
      "image/png": "[encoded data removed]",
      "text/plain": [
       "<matplotlib.figure.Figure at 0x1c38aba8>"
      ]
     },
     "metadata": {},
     "output_type": "display_data"
    }
   ],
   "source": [
    "rolmean = StockPriceEBAY.rolling(12).mean()\n",
    "rolstd = StockPriceEBAY.rolling(12).std()\n",
    "plt.figure(figsize=(12,8)) \n",
    "plt.plot( StockPriceEBAY, color='blue',label='Original')\n",
    "plt.plot(rolmean, color='red', label='Rolling Mean')\n",
    "plt.plot(rolstd, color='black', label = 'Rolling Std')\n",
    "plt.legend(loc='best')\n",
    "plt.title('Rolling Mean & Standard Deviation')\n",
    "plt.show()"
   ]
  },
  {
   "cell_type": "code",
   "execution_count": 244,
   "metadata": {},
   "outputs": [
    {
     "name": "stdout",
     "output_type": "stream",
     "text": [
      "Augmented Dickey-Fuller Test:\n",
      "ADF Test Statistic : -1.9962978634802515\n",
      "p-value : 0.2881987125649663\n",
      "#Lags Used : 0\n",
      "Number of Observations Used : 105\n",
      "weak evidence against null hypothesis, time series has a unit root, indicating it is non-stationary \n"
     ]
    }
   ],
   "source": [
    "adf_check(StockPriceEBAY[\"EBAY_LOG\"])"
   ]
  },
  {
   "cell_type": "code",
   "execution_count": 245,
   "metadata": {},
   "outputs": [],
   "source": [
    "stockEBAY['EBAY First Diff'] = StockPriceEBAY[\"EBAY_LOG\"] - StockPriceEBAY[\"EBAY_LOG\"].shift(1)"
   ]
  },
  {
   "cell_type": "code",
   "execution_count": 246,
   "metadata": {},
   "outputs": [
    {
     "data": {
      "text/plain": [
       "DATE\n",
       "2017-04-03         NaN\n",
       "2017-04-04    0.011193\n",
       "2017-04-05   -0.009713\n",
       "2017-04-06    0.010299\n",
       "2017-04-07   -0.007345\n",
       "Name: EBAY First Diff, dtype: float64"
      ]
     },
     "execution_count": 246,
     "metadata": {},
     "output_type": "execute_result"
    }
   ],
   "source": [
    "stockEBAY['EBAY First Diff'].head()"
   ]
  },
  {
   "cell_type": "code",
   "execution_count": 247,
   "metadata": {},
   "outputs": [
    {
     "name": "stdout",
     "output_type": "stream",
     "text": [
      "Augmented Dickey-Fuller Test:\n",
      "ADF Test Statistic : -4.122273559572955\n",
      "p-value : 0.0008895990751206726\n",
      "#Lags Used : 6\n",
      "Number of Observations Used : 98\n",
      "strong evidence against the null hypothesis, reject the null hypothesis. Data has no unit root and is stationary\n"
     ]
    }
   ],
   "source": [
    "adf_check(stockEBAY['EBAY First Diff'].dropna())"
   ]
  },
  {
   "cell_type": "code",
   "execution_count": 248,
   "metadata": {},
   "outputs": [
    {
     "data": {
      "text/plain": [
       "<matplotlib.axes._subplots.AxesSubplot at 0x1b4fcdd8>"
      ]
     },
     "execution_count": 248,
     "metadata": {},
     "output_type": "execute_result"
    },
    {
     "data": {
      "image/png": "[encoded data removed]",
      "text/plain": [
       "<matplotlib.figure.Figure at 0x1b9769b0>"
      ]
     },
     "metadata": {},
     "output_type": "display_data"
    }
   ],
   "source": [
    "stockEBAY['EBAY First Diff'].plot()"
   ]
  },
  {
   "cell_type": "code",
   "execution_count": 249,
   "metadata": {},
   "outputs": [
    {
     "data": {
      "image/png": "[encoded data removed]",
      "text/plain": [
       "<matplotlib.figure.Figure at 0x1a107828>"
      ]
     },
     "metadata": {},
     "output_type": "display_data"
    }
   ],
   "source": [
    "fig_first = plot_acf(stockEBAY['EBAY First Diff'].dropna())"
   ]
  },
  {
   "cell_type": "code",
   "execution_count": 250,
   "metadata": {},
   "outputs": [
    {
     "data": {
      "image/png": "[encoded data removed]",
      "text/plain": [
       "<matplotlib.figure.Figure at 0x1a07f4a8>"
      ]
     },
     "metadata": {},
     "output_type": "display_data"
    }
   ],
   "source": [
    "result = plot_pacf(stockEBAY['EBAY First Diff'].dropna())"
   ]
  },
  {
   "cell_type": "code",
   "execution_count": 251,
   "metadata": {},
   "outputs": [
    {
     "name": "stdout",
     "output_type": "stream",
     "text": [
      "-608.4280752505076\n"
     ]
    }
   ],
   "source": [
    "model_arima = ARIMA(StockPriceEBAY[\"EBAY_LOG\"],order=(5,1,2))\n",
    "model_arima_fit = model_arima.fit()\n",
    "print(model_arima_fit.aic)"
   ]
  },
  {
   "cell_type": "code",
   "execution_count": 252,
   "metadata": {},
   "outputs": [
    {
     "data": {
      "text/html": [
       "<table class=\"simpletable\">\n",
       "<tr>\n",
       "        <td>Model:</td>              <td>ARIMA</td>              <td>BIC:</td>          <td>-584.5424</td>\n",
       "</tr>\n",
       "<tr>\n",
       "  <td>Dependent Variable:</td>    <td>D.EBAY_LOG</td>       <td>Log-Likelihood:</td>     <td>313.21</td>  \n",
       "</tr>\n",
       "<tr>\n",
       "         <td>Date:</td>        <td>2018-12-05 08:19</td>        <td>Scale:</td>          <td>1.0000</td>  \n",
       "</tr>\n",
       "<tr>\n",
       "   <td>No. Observations:</td>         <td>105</td>              <td>Method:</td>         <td>css-mle</td> \n",
       "</tr>\n",
       "<tr>\n",
       "       <td>Df Model:</td>              <td>8</td>               <td>Sample:</td>       <td>04-04-2017</td>\n",
       "</tr>\n",
       "<tr>\n",
       "     <td>Df Residuals:</td>           <td>97</td>                  <td></td>           <td>08-31-2017</td>\n",
       "</tr>\n",
       "<tr>\n",
       "      <td>Converged:</td>           <td>0.0000</td>      <td>S.D. of innovations:</td>    <td>0.012</td>  \n",
       "</tr>\n",
       "<tr>\n",
       "         <td>AIC:</td>             <td>-608.4281</td>            <td>HQIC:</td>         <td>-598.749</td> \n",
       "</tr>\n",
       "</table>\n",
       "<table class=\"simpletable\">\n",
       "<tr>\n",
       "          <td></td>          <th>Coef.</th>  <th>Std.Err.</th>    <th>t</th>     <th>P>|t|</th> <th>[0.025</th>  <th>0.975]</th> \n",
       "</tr>\n",
       "<tr>\n",
       "  <th>const</th>            <td>0.0006</td>   <td>0.0010</td>  <td>0.5725</td>  <td>0.5683</td> <td>-0.0014</td> <td>0.0025</td> \n",
       "</tr>\n",
       "<tr>\n",
       "  <th>ar.L1.D.EBAY_LOG</th> <td>0.5072</td>   <td>0.6401</td>  <td>0.7923</td>  <td>0.4301</td> <td>-0.7475</td> <td>1.7618</td> \n",
       "</tr>\n",
       "<tr>\n",
       "  <th>ar.L2.D.EBAY_LOG</th> <td>-0.4595</td>  <td>0.3077</td>  <td>-1.4935</td> <td>0.1386</td> <td>-1.0625</td> <td>0.1435</td> \n",
       "</tr>\n",
       "<tr>\n",
       "  <th>ar.L3.D.EBAY_LOG</th> <td>-0.1091</td>  <td>0.1160</td>  <td>-0.9401</td> <td>0.3495</td> <td>-0.3364</td> <td>0.1183</td> \n",
       "</tr>\n",
       "<tr>\n",
       "  <th>ar.L4.D.EBAY_LOG</th> <td>0.1188</td>   <td>0.1072</td>  <td>1.1087</td>  <td>0.2703</td> <td>-0.0912</td> <td>0.3289</td> \n",
       "</tr>\n",
       "<tr>\n",
       "  <th>ar.L5.D.EBAY_LOG</th> <td>-0.2294</td>  <td>0.0950</td>  <td>-2.4144</td> <td>0.0176</td> <td>-0.4155</td> <td>-0.0432</td>\n",
       "</tr>\n",
       "<tr>\n",
       "  <th>ma.L1.D.EBAY_LOG</th> <td>-0.5006</td>  <td>0.6682</td>  <td>-0.7492</td> <td>0.4555</td> <td>-1.8103</td> <td>0.8090</td> \n",
       "</tr>\n",
       "<tr>\n",
       "  <th>ma.L2.D.EBAY_LOG</th> <td>0.4535</td>   <td>0.3073</td>  <td>1.4757</td>  <td>0.1433</td> <td>-0.1488</td> <td>1.0558</td> \n",
       "</tr>\n",
       "</table>\n",
       "<table class=\"simpletable\">\n",
       "<tr>\n",
       "    <td></td>    <th>Real</th>   <th>Imaginary</th> <th>Modulus</th> <th>Frequency</th>\n",
       "</tr>\n",
       "<tr>\n",
       "  <th>AR.1</th> <td>0.9765</td>   <td>-0.8882</td>  <td>1.3200</td>   <td>-0.1175</td> \n",
       "</tr>\n",
       "<tr>\n",
       "  <th>AR.2</th> <td>0.9765</td>   <td>0.8882</td>   <td>1.3200</td>   <td>0.1175</td>  \n",
       "</tr>\n",
       "<tr>\n",
       "  <th>AR.3</th> <td>0.0390</td>   <td>-1.2854</td>  <td>1.2860</td>   <td>-0.2452</td> \n",
       "</tr>\n",
       "<tr>\n",
       "  <th>AR.4</th> <td>0.0390</td>   <td>1.2854</td>   <td>1.2860</td>   <td>0.2452</td>  \n",
       "</tr>\n",
       "<tr>\n",
       "  <th>AR.5</th> <td>-1.5131</td>  <td>-0.0000</td>  <td>1.5131</td>   <td>-0.5000</td> \n",
       "</tr>\n",
       "<tr>\n",
       "  <th>MA.1</th> <td>0.5520</td>   <td>-1.3786</td>  <td>1.4850</td>   <td>-0.1894</td> \n",
       "</tr>\n",
       "<tr>\n",
       "  <th>MA.2</th> <td>0.5520</td>   <td>1.3786</td>   <td>1.4850</td>   <td>0.1894</td>  \n",
       "</tr>\n",
       "</table>"
      ],
      "text/plain": [
       "<class 'statsmodels.iolib.summary2.Summary'>\n",
       "\"\"\"\n",
       "                           Results: ARIMA\n",
       "====================================================================\n",
       "Model:              ARIMA            BIC:                 -584.5424 \n",
       "Dependent Variable: D.EBAY_LOG       Log-Likelihood:      313.21    \n",
       "Date:               2018-12-05 08:19 Scale:               1.0000    \n",
       "No. Observations:   105              Method:              css-mle   \n",
       "Df Model:           8                Sample:              04-04-2017\n",
       "Df Residuals:       97                                    08-31-2017\n",
       "Converged:          0.0000           S.D. of innovations: 0.012     \n",
       "AIC:                -608.4281        HQIC:                -598.749  \n",
       "--------------------------------------------------------------------\n",
       "                      Coef.  Std.Err.    t    P>|t|   [0.025  0.975]\n",
       "--------------------------------------------------------------------\n",
       "const                 0.0006   0.0010  0.5725 0.5683 -0.0014  0.0025\n",
       "ar.L1.D.EBAY_LOG      0.5072   0.6401  0.7923 0.4301 -0.7475  1.7618\n",
       "ar.L2.D.EBAY_LOG     -0.4595   0.3077 -1.4935 0.1386 -1.0625  0.1435\n",
       "ar.L3.D.EBAY_LOG     -0.1091   0.1160 -0.9401 0.3495 -0.3364  0.1183\n",
       "ar.L4.D.EBAY_LOG      0.1188   0.1072  1.1087 0.2703 -0.0912  0.3289\n",
       "ar.L5.D.EBAY_LOG     -0.2294   0.0950 -2.4144 0.0176 -0.4155 -0.0432\n",
       "ma.L1.D.EBAY_LOG     -0.5006   0.6682 -0.7492 0.4555 -1.8103  0.8090\n",
       "ma.L2.D.EBAY_LOG      0.4535   0.3073  1.4757 0.1433 -0.1488  1.0558\n",
       "-----------------------------------------------------------------------------\n",
       "                 Real           Imaginary          Modulus          Frequency\n",
       "-----------------------------------------------------------------------------\n",
       "AR.1            0.9765            -0.8882           1.3200            -0.1175\n",
       "AR.2            0.9765             0.8882           1.3200             0.1175\n",
       "AR.3            0.0390            -1.2854           1.2860            -0.2452\n",
       "AR.4            0.0390             1.2854           1.2860             0.2452\n",
       "AR.5           -1.5131            -0.0000           1.5131            -0.5000\n",
       "MA.1            0.5520            -1.3786           1.4850            -0.1894\n",
       "MA.2            0.5520             1.3786           1.4850             0.1894\n",
       "====================================================================\n",
       "\n",
       "\"\"\""
      ]
     },
     "execution_count": 252,
     "metadata": {},
     "output_type": "execute_result"
    }
   ],
   "source": [
    "model_arima_fit.summary2()"
   ]
  },
  {
   "cell_type": "code",
   "execution_count": 253,
   "metadata": {},
   "outputs": [
    {
     "data": {
      "text/plain": [
       "array([3.58867677, 3.58929288, 3.58729978, 3.58477875, 3.58238023,\n",
       "       3.58291366, 3.58484028, 3.58664855, 3.58757252, 3.58827071,\n",
       "       3.58876674, 3.58902682, 3.58920682, 3.58965268, 3.59032365,\n",
       "       3.5910137 ])"
      ]
     },
     "execution_count": 253,
     "metadata": {},
     "output_type": "execute_result"
    }
   ],
   "source": [
    "model_arima_fit.forecast(16)[0]"
   ]
  },
  {
   "cell_type": "code",
   "execution_count": null,
   "metadata": {},
   "outputs": [],
   "source": []
  }
 ],
 "metadata": {
  "kernelspec": {
   "display_name": "Python 3",
   "language": "python",
   "name": "python3"
  },
  "language_info": {
   "codemirror_mode": {
    "name": "ipython",
    "version": 3
   },
   "file_extension": ".py",
   "mimetype": "text/x-python",
   "name": "python",
   "nbconvert_exporter": "python",
   "pygments_lexer": "ipython3",
   "version": "3.6.4"
  }
 },
 "nbformat": 4,
 "nbformat_minor": 1
}
